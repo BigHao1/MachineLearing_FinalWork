{
 "cells": [
  {
   "cell_type": "markdown",
   "metadata": {
    "pycharm": {
     "name": "#%% md\n"
    }
   },
   "source": [
    "# 服装分类"
   ]
  },
  {
   "cell_type": "markdown",
   "metadata": {
    "pycharm": {
     "name": "#%% md\n"
    }
   },
   "source": [
    "### 导入所需依赖"
   ]
  },
  {
   "cell_type": "code",
   "execution_count": 1,
   "metadata": {
    "collapsed": false,
    "jupyter": {
     "outputs_hidden": false
    },
    "pycharm": {
     "name": "#%%\n"
    }
   },
   "outputs": [],
   "source": [
    "import numpy as np\n",
    "import pandas as pd\n",
    "import matplotlib.pyplot as plt\n",
    "import itertools\n",
    "\n",
    "from sklearn.model_selection import train_test_split\n",
    "from sklearn.metrics import confusion_matrix, classification_report\n",
    "\n",
    "import tensorflow as tf"
   ]
  },
  {
   "cell_type": "markdown",
   "metadata": {
    "pycharm": {
     "name": "#%% md\n"
    }
   },
   "source": [
    "### 引入数据"
   ]
  },
  {
   "cell_type": "code",
   "execution_count": 2,
   "metadata": {
    "pycharm": {
     "name": "#%%\n"
    }
   },
   "outputs": [
    {
     "data": {
      "text/plain": "   label  pixel1  pixel2  pixel3  pixel4  pixel5  pixel6  pixel7  pixel8  \\\n0      2       0       0       0       0       0       0       0       0   \n1      9       0       0       0       0       0       0       0       0   \n2      6       0       0       0       0       0       0       0       5   \n3      0       0       0       0       1       2       0       0       0   \n4      3       0       0       0       0       0       0       0       0   \n\n   pixel9  ...  pixel775  pixel776  pixel777  pixel778  pixel779  pixel780  \\\n0       0  ...         0         0         0         0         0         0   \n1       0  ...         0         0         0         0         0         0   \n2       0  ...         0         0         0        30        43         0   \n3       0  ...         3         0         0         0         0         1   \n4       0  ...         0         0         0         0         0         0   \n\n   pixel781  pixel782  pixel783  pixel784  \n0         0         0         0         0  \n1         0         0         0         0  \n2         0         0         0         0  \n3         0         0         0         0  \n4         0         0         0         0  \n\n[5 rows x 785 columns]",
      "text/html": "<div>\n<style scoped>\n    .dataframe tbody tr th:only-of-type {\n        vertical-align: middle;\n    }\n\n    .dataframe tbody tr th {\n        vertical-align: top;\n    }\n\n    .dataframe thead th {\n        text-align: right;\n    }\n</style>\n<table border=\"1\" class=\"dataframe\">\n  <thead>\n    <tr style=\"text-align: right;\">\n      <th></th>\n      <th>label</th>\n      <th>pixel1</th>\n      <th>pixel2</th>\n      <th>pixel3</th>\n      <th>pixel4</th>\n      <th>pixel5</th>\n      <th>pixel6</th>\n      <th>pixel7</th>\n      <th>pixel8</th>\n      <th>pixel9</th>\n      <th>...</th>\n      <th>pixel775</th>\n      <th>pixel776</th>\n      <th>pixel777</th>\n      <th>pixel778</th>\n      <th>pixel779</th>\n      <th>pixel780</th>\n      <th>pixel781</th>\n      <th>pixel782</th>\n      <th>pixel783</th>\n      <th>pixel784</th>\n    </tr>\n  </thead>\n  <tbody>\n    <tr>\n      <th>0</th>\n      <td>2</td>\n      <td>0</td>\n      <td>0</td>\n      <td>0</td>\n      <td>0</td>\n      <td>0</td>\n      <td>0</td>\n      <td>0</td>\n      <td>0</td>\n      <td>0</td>\n      <td>...</td>\n      <td>0</td>\n      <td>0</td>\n      <td>0</td>\n      <td>0</td>\n      <td>0</td>\n      <td>0</td>\n      <td>0</td>\n      <td>0</td>\n      <td>0</td>\n      <td>0</td>\n    </tr>\n    <tr>\n      <th>1</th>\n      <td>9</td>\n      <td>0</td>\n      <td>0</td>\n      <td>0</td>\n      <td>0</td>\n      <td>0</td>\n      <td>0</td>\n      <td>0</td>\n      <td>0</td>\n      <td>0</td>\n      <td>...</td>\n      <td>0</td>\n      <td>0</td>\n      <td>0</td>\n      <td>0</td>\n      <td>0</td>\n      <td>0</td>\n      <td>0</td>\n      <td>0</td>\n      <td>0</td>\n      <td>0</td>\n    </tr>\n    <tr>\n      <th>2</th>\n      <td>6</td>\n      <td>0</td>\n      <td>0</td>\n      <td>0</td>\n      <td>0</td>\n      <td>0</td>\n      <td>0</td>\n      <td>0</td>\n      <td>5</td>\n      <td>0</td>\n      <td>...</td>\n      <td>0</td>\n      <td>0</td>\n      <td>0</td>\n      <td>30</td>\n      <td>43</td>\n      <td>0</td>\n      <td>0</td>\n      <td>0</td>\n      <td>0</td>\n      <td>0</td>\n    </tr>\n    <tr>\n      <th>3</th>\n      <td>0</td>\n      <td>0</td>\n      <td>0</td>\n      <td>0</td>\n      <td>1</td>\n      <td>2</td>\n      <td>0</td>\n      <td>0</td>\n      <td>0</td>\n      <td>0</td>\n      <td>...</td>\n      <td>3</td>\n      <td>0</td>\n      <td>0</td>\n      <td>0</td>\n      <td>0</td>\n      <td>1</td>\n      <td>0</td>\n      <td>0</td>\n      <td>0</td>\n      <td>0</td>\n    </tr>\n    <tr>\n      <th>4</th>\n      <td>3</td>\n      <td>0</td>\n      <td>0</td>\n      <td>0</td>\n      <td>0</td>\n      <td>0</td>\n      <td>0</td>\n      <td>0</td>\n      <td>0</td>\n      <td>0</td>\n      <td>...</td>\n      <td>0</td>\n      <td>0</td>\n      <td>0</td>\n      <td>0</td>\n      <td>0</td>\n      <td>0</td>\n      <td>0</td>\n      <td>0</td>\n      <td>0</td>\n      <td>0</td>\n    </tr>\n  </tbody>\n</table>\n<p>5 rows × 785 columns</p>\n</div>"
     },
     "execution_count": 2,
     "metadata": {},
     "output_type": "execute_result"
    }
   ],
   "source": [
    "train_data = pd.read_csv('train__data.csv')\n",
    "test_data = pd.read_csv('test_data.csv')\n",
    "\n",
    "train_data.head()"
   ]
  },
  {
   "cell_type": "markdown",
   "metadata": {
    "pycharm": {
     "name": "#%% md\n"
    }
   },
   "source": [
    "# 数据规模"
   ]
  },
  {
   "cell_type": "code",
   "execution_count": 3,
   "metadata": {
    "pycharm": {
     "name": "#%%\n"
    }
   },
   "outputs": [
    {
     "name": "stdout",
     "output_type": "stream",
     "text": [
      "训练数据大小（行，列） : (60000, 785)\n",
      "测试数据大小（行，列） : (10000, 785)\n"
     ]
    }
   ],
   "source": [
    "print('训练数据大小（行，列） : {}'.format(train_data.shape))\n",
    "print('测试数据大小（行，列） : {}'.format(test_data.shape))"
   ]
  },
  {
   "cell_type": "code",
   "execution_count": 4,
   "metadata": {
    "pycharm": {
     "name": "#%%\n"
    }
   },
   "outputs": [],
   "source": [
    "train_data = np.array(train_data, dtype= 'float32')\n",
    "test_data = np.array(test_data, dtype= 'float32')"
   ]
  },
  {
   "cell_type": "markdown",
   "metadata": {
    "pycharm": {
     "name": "#%% md\n"
    }
   },
   "source": [
    "### 处理像素化的数据，使其成为可视的图片"
   ]
  },
  {
   "cell_type": "code",
   "execution_count": 5,
   "metadata": {
    "pycharm": {
     "name": "#%%\n"
    }
   },
   "outputs": [],
   "source": [
    "X_train_orig = train_data[:, 1:]/ 255\n",
    "y_train_orig = train_data[:, 0]\n",
    "\n",
    "X_test = test_data[:, 1:]/ 255\n",
    "Y_test = test_data[:, 0]"
   ]
  },
  {
   "cell_type": "markdown",
   "metadata": {
    "pycharm": {
     "name": "#%% md\n"
    }
   },
   "source": [
    "### 创建训练集和验证集"
   ]
  },
  {
   "cell_type": "code",
   "execution_count": 6,
   "metadata": {
    "pycharm": {
     "name": "#%%\n"
    }
   },
   "outputs": [],
   "source": [
    "X_train, X_validate, y_train, y_validate = train_test_split(X_train_orig, y_train_orig, test_size = 0.2, random_state=42)"
   ]
  },
  {
   "cell_type": "markdown",
   "metadata": {
    "pycharm": {
     "name": "#%% md\n"
    }
   },
   "source": [
    "# 随机展示数据"
   ]
  },
  {
   "cell_type": "code",
   "execution_count": 7,
   "metadata": {
    "pycharm": {
     "name": "#%%\n"
    }
   },
   "outputs": [
    {
     "data": {
      "text/plain": "<Figure size 1800x600 with 4 Axes>",
      "image/png": "[encoded data removed]"
     },
     "metadata": {},
     "output_type": "display_data"
    }
   ],
   "source": [
    "# Lets check some images\n",
    "plt.figure(figsize = (18,6))\n",
    "\n",
    "plt.subplot(141)\n",
    "image = X_train[49].reshape(28, 28)\n",
    "plt.imshow(image)\n",
    "\n",
    "plt.subplot(142)\n",
    "image = X_train[3].reshape(28, 28)\n",
    "plt.imshow(image)\n",
    "\n",
    "plt.subplot(143)\n",
    "image = X_train[6].reshape(28, 28)\n",
    "plt.imshow(image)\n",
    "\n",
    "plt.subplot(144)\n",
    "image = X_train[8].reshape(28, 28)\n",
    "plt.imshow(image)\n",
    "plt.show()"
   ]
  },
  {
   "cell_type": "markdown",
   "metadata": {
    "pycharm": {
     "name": "#%% md\n"
    }
   },
   "source": [
    "# 神经网络，两层全连接层，分别有128个和512个神经元，20个输出神经元"
   ]
  },
  {
   "cell_type": "code",
   "execution_count": 8,
   "metadata": {
    "pycharm": {
     "name": "#%%\n"
    }
   },
   "outputs": [],
   "source": [
    "from tensorflow.python.keras.layers import Dense\n",
    "n_cols = X_train.shape[1]\n",
    "model = tf.keras.models.Sequential()\n",
    "\n",
    "model.add(Dense(512, activation='relu', input_shape=(n_cols,)))\n",
    "model.add(Dense(128, activation='relu'))\n",
    "model.add(Dense(10, activation='softmax'))"
   ]
  },
  {
   "cell_type": "markdown",
   "metadata": {
    "pycharm": {
     "name": "#%% md\n"
    }
   },
   "source": [
    "# 输出模型各层的参数状况"
   ]
  },
  {
   "cell_type": "code",
   "execution_count": 9,
   "metadata": {
    "collapsed": false,
    "jupyter": {
     "outputs_hidden": false
    },
    "pycharm": {
     "name": "#%%\n"
    }
   },
   "outputs": [
    {
     "name": "stdout",
     "output_type": "stream",
     "text": [
      "Model: \"sequential\"\n",
      "_________________________________________________________________\n",
      "Layer (type)                 Output Shape              Param #   \n",
      "=================================================================\n",
      "dense (Dense)                (None, 512)               401920    \n",
      "_________________________________________________________________\n",
      "dense_1 (Dense)              (None, 128)               65664     \n",
      "_________________________________________________________________\n",
      "dense_2 (Dense)              (None, 10)                1290      \n",
      "=================================================================\n",
      "Total params: 468,874\n",
      "Trainable params: 468,874\n",
      "Non-trainable params: 0\n",
      "_________________________________________________________________\n"
     ]
    }
   ],
   "source": [
    "model.summary()"
   ]
  },
  {
   "cell_type": "code",
   "execution_count": 10,
   "metadata": {
    "pycharm": {
     "name": "#%%\n"
    }
   },
   "outputs": [
    {
     "name": "stderr",
     "output_type": "stream",
     "text": [
      "/usr/local/lib/python3.8/dist-packages/tensorflow/python/keras/optimizer_v2/optimizer_v2.py:374: UserWarning: The `lr` argument is deprecated, use `learning_rate` instead.\n",
      "  warnings.warn(\n"
     ]
    }
   ],
   "source": [
    "from tensorflow.keras.optimizers import Adam\n",
    "model.compile(optimizer=Adam(lr = 0.0001),\n",
    "              loss='sparse_categorical_crossentropy',\n",
    "              metrics = ['accuracy'])"
   ]
  },
  {
   "cell_type": "markdown",
   "metadata": {
    "pycharm": {
     "name": "#%% md\n"
    }
   },
   "source": [
    "# 使用tf.keras.models.Sequential()中的fit()函数训练模型"
   ]
  },
  {
   "cell_type": "code",
   "execution_count": 11,
   "metadata": {
    "pycharm": {
     "name": "#%%\n"
    },
    "scrolled": true
   },
   "outputs": [
    {
     "name": "stdout",
     "output_type": "stream",
     "text": [
      "Epoch 1/20\n",
      "160/160 [==============================] - 1s 3ms/step - loss: 0.9444 - accuracy: 0.7183 - val_loss: 0.5828 - val_accuracy: 0.8079\n",
      "Epoch 2/20\n",
      "160/160 [==============================] - 0s 2ms/step - loss: 0.5220 - accuracy: 0.8280 - val_loss: 0.4923 - val_accuracy: 0.8292\n",
      "Epoch 3/20\n",
      "160/160 [==============================] - 0s 2ms/step - loss: 0.4612 - accuracy: 0.8431 - val_loss: 0.4533 - val_accuracy: 0.8408\n",
      "Epoch 4/20\n",
      "160/160 [==============================] - 0s 2ms/step - loss: 0.4256 - accuracy: 0.8551 - val_loss: 0.4212 - val_accuracy: 0.8543\n",
      "Epoch 5/20\n",
      "160/160 [==============================] - 0s 2ms/step - loss: 0.4050 - accuracy: 0.8605 - val_loss: 0.4087 - val_accuracy: 0.8587\n",
      "Epoch 6/20\n",
      "160/160 [==============================] - 0s 2ms/step - loss: 0.3872 - accuracy: 0.8662 - val_loss: 0.3907 - val_accuracy: 0.8652\n",
      "Epoch 7/20\n",
      "160/160 [==============================] - 0s 2ms/step - loss: 0.3725 - accuracy: 0.8713 - val_loss: 0.3839 - val_accuracy: 0.8659\n",
      "Epoch 8/20\n",
      "160/160 [==============================] - 0s 2ms/step - loss: 0.3609 - accuracy: 0.8754 - val_loss: 0.3749 - val_accuracy: 0.8679\n",
      "Epoch 9/20\n",
      "160/160 [==============================] - 0s 2ms/step - loss: 0.3511 - accuracy: 0.8776 - val_loss: 0.3706 - val_accuracy: 0.8717\n",
      "Epoch 10/20\n",
      "160/160 [==============================] - 0s 2ms/step - loss: 0.3431 - accuracy: 0.8798 - val_loss: 0.3611 - val_accuracy: 0.8718\n",
      "Epoch 11/20\n",
      "160/160 [==============================] - 0s 2ms/step - loss: 0.3347 - accuracy: 0.8831 - val_loss: 0.3551 - val_accuracy: 0.8749\n",
      "Epoch 12/20\n",
      "160/160 [==============================] - 0s 2ms/step - loss: 0.3265 - accuracy: 0.8859 - val_loss: 0.3586 - val_accuracy: 0.8709\n",
      "Epoch 13/20\n",
      "160/160 [==============================] - 0s 2ms/step - loss: 0.3186 - accuracy: 0.8888 - val_loss: 0.3470 - val_accuracy: 0.8772\n",
      "Epoch 14/20\n",
      "160/160 [==============================] - 0s 2ms/step - loss: 0.3142 - accuracy: 0.8896 - val_loss: 0.3483 - val_accuracy: 0.8727\n",
      "Epoch 15/20\n",
      "160/160 [==============================] - 0s 2ms/step - loss: 0.3063 - accuracy: 0.8918 - val_loss: 0.3562 - val_accuracy: 0.8700\n",
      "Epoch 16/20\n",
      "160/160 [==============================] - 0s 2ms/step - loss: 0.3015 - accuracy: 0.8940 - val_loss: 0.3384 - val_accuracy: 0.8783\n",
      "Epoch 17/20\n",
      "160/160 [==============================] - 0s 2ms/step - loss: 0.2966 - accuracy: 0.8959 - val_loss: 0.3339 - val_accuracy: 0.8788\n",
      "Epoch 18/20\n",
      "160/160 [==============================] - 0s 2ms/step - loss: 0.2911 - accuracy: 0.8975 - val_loss: 0.3365 - val_accuracy: 0.8773\n",
      "Epoch 19/20\n",
      "160/160 [==============================] - 0s 2ms/step - loss: 0.2867 - accuracy: 0.8985 - val_loss: 0.3314 - val_accuracy: 0.8797\n",
      "Epoch 20/20\n",
      "160/160 [==============================] - 0s 2ms/step - loss: 0.2816 - accuracy: 0.9012 - val_loss: 0.3305 - val_accuracy: 0.8788\n"
     ]
    }
   ],
   "source": [
    "model_1 = model.fit(X_train, y_train,\n",
    "                    batch_size=300,\n",
    "                    epochs = 20,\n",
    "                    verbose=1,\n",
    "                    validation_data=(X_validate, y_validate))"
   ]
  },
  {
   "cell_type": "code",
   "execution_count": 12,
   "metadata": {
    "collapsed": false,
    "jupyter": {
     "outputs_hidden": false
    },
    "pycharm": {
     "name": "#%%\n"
    }
   },
   "outputs": [],
   "source": [
    "model.save('saved_model/model.h5')"
   ]
  },
  {
   "cell_type": "code",
   "execution_count": 8,
   "outputs": [],
   "source": [
    "from tensorflow.keras.models import load_model\n",
    "model=load_model('saved_model/model.h5')"
   ],
   "metadata": {
    "collapsed": false,
    "pycharm": {
     "name": "#%%\n"
    }
   }
  },
  {
   "cell_type": "code",
   "execution_count": 9,
   "metadata": {
    "pycharm": {
     "name": "#%%\n"
    }
   },
   "outputs": [
    {
     "name": "stdout",
     "output_type": "stream",
     "text": [
      "Test loss: 0.3163886070251465\n",
      "Test accuracy: 88.55000138282776\n"
     ]
    }
   ],
   "source": [
    "score = model.evaluate(X_test, Y_test, verbose=0)\n",
    "print('Test loss:', score[0])\n",
    "print('Test accuracy:', score[1]*100)"
   ]
  },
  {
   "cell_type": "markdown",
   "metadata": {
    "pycharm": {
     "name": "#%% md\n"
    }
   },
   "source": [
    "### 图像重塑以及重新编码"
   ]
  },
  {
   "cell_type": "code",
   "execution_count": 10,
   "metadata": {
    "pycharm": {
     "name": "#%%\n"
    }
   },
   "outputs": [],
   "source": [
    "image_rows = 28\n",
    "image_cols = 28\n",
    "input_shape = (image_rows, image_cols, 1)\n",
    "\n",
    "X_train = X_train.reshape(X_train.shape[0], image_rows, image_cols, 1)\n",
    "X_test = X_test.reshape(X_test.shape[0], image_rows, image_cols, 1)\n",
    "X_validate = X_validate.reshape(X_validate.shape[0], image_rows, image_cols, 1)"
   ]
  },
  {
   "cell_type": "markdown",
   "metadata": {
    "pycharm": {
     "name": "#%% md\n"
    }
   },
   "source": [
    "# 使用to_categorical()函数分别将y_train、y_validate、y_test几个验证集按照10个类别表示"
   ]
  },
  {
   "cell_type": "code",
   "execution_count": 11,
   "metadata": {
    "pycharm": {
     "name": "#%%\n"
    }
   },
   "outputs": [],
   "source": [
    "# One-hot encoding\n",
    "from tensorflow.keras.utils import to_categorical\n",
    "y_train = to_categorical(y_train, 10)\n",
    "y_validate = to_categorical(y_validate, 10)\n",
    "y_test = to_categorical(Y_test, 10)"
   ]
  },
  {
   "cell_type": "markdown",
   "metadata": {
    "pycharm": {
     "name": "#%% md\n"
    }
   },
   "source": [
    "# 一层卷积层，一个2x2池层，一个有128个神经元完全连接层的神经网络"
   ]
  },
  {
   "cell_type": "code",
   "execution_count": 16,
   "metadata": {
    "pycharm": {
     "name": "#%%\n"
    }
   },
   "outputs": [],
   "source": [
    "from tensorflow.python.keras.layers import Dense\n",
    "from tensorflow.python.keras.layers import Conv2D\n",
    "from tensorflow.python.keras.layers import MaxPooling2D\n",
    "from tensorflow.python.keras.layers import Dropout\n",
    "from tensorflow.python.keras.layers import Flatten\n",
    "cnn_model = tf.keras.models.Sequential()\n",
    "\n",
    "cnn_model.add(Conv2D(32, kernel_size=(3, 3), activation='relu', input_shape=input_shape))\n",
    "cnn_model.add(MaxPooling2D(pool_size=(2, 2)))\n",
    "\n",
    "cnn_model.add(Dropout(0.25))\n",
    "\n",
    "cnn_model.add(Flatten()) \n",
    "\n",
    "cnn_model.add(Dense(128, activation='relu'))\n",
    "cnn_model.add(Dropout(0.3))\n",
    "\n",
    "cnn_model.add(Dense(10, activation='softmax'))"
   ]
  },
  {
   "cell_type": "markdown",
   "metadata": {
    "pycharm": {
     "name": "#%% md\n"
    }
   },
   "source": [
    " * __model.compile():__ 方法用于在配置训练方法时，告知训练时用的优化器、损失函数和准确率评测标准\n",
    " 其中optimizer为优化器，此处采用adam优化器；\n",
    " * __loss__ 为损失函数，此处采用categorical_crossentropy函数，相当于 tf.keras.losses.SparseCatagoricalCrossentropy(from_logits = False)，from_logits代表是否将输出转为概率分布的形式，为False时表示转换为概率分布\n",
    " * __Metrics__ 为标注网络评价指标即准确率， 此处采用\"accuracy\" ， y_ 和 y 都是数值，y_为真实值，y为预测值"
   ]
  },
  {
   "cell_type": "code",
   "execution_count": 17,
   "metadata": {
    "pycharm": {
     "name": "#%%\n"
    }
   },
   "outputs": [],
   "source": [
    "cnn_model.compile(optimizer= Adam(lr= 0.0001),\n",
    "          loss='categorical_crossentropy',\n",
    "          metrics=['accuracy'])"
   ]
  },
  {
   "cell_type": "markdown",
   "metadata": {
    "pycharm": {
     "name": "#%% md\n"
    }
   },
   "source": [
    "# 输出神经网络卷积层的参数情况"
   ]
  },
  {
   "cell_type": "code",
   "execution_count": 18,
   "metadata": {
    "pycharm": {
     "name": "#%%\n"
    }
   },
   "outputs": [
    {
     "name": "stdout",
     "output_type": "stream",
     "text": [
      "Model: \"sequential_1\"\n",
      "_________________________________________________________________\n",
      "Layer (type)                 Output Shape              Param #   \n",
      "=================================================================\n",
      "conv2d (Conv2D)              (None, 26, 26, 32)        320       \n",
      "_________________________________________________________________\n",
      "max_pooling2d (MaxPooling2D) (None, 13, 13, 32)        0         \n",
      "_________________________________________________________________\n",
      "dropout (Dropout)            (None, 13, 13, 32)        0         \n",
      "_________________________________________________________________\n",
      "flatten (Flatten)            (None, 5408)              0         \n",
      "_________________________________________________________________\n",
      "dense_3 (Dense)              (None, 128)               692352    \n",
      "_________________________________________________________________\n",
      "dropout_1 (Dropout)          (None, 128)               0         \n",
      "_________________________________________________________________\n",
      "dense_4 (Dense)              (None, 10)                1290      \n",
      "=================================================================\n",
      "Total params: 693,962\n",
      "Trainable params: 693,962\n",
      "Non-trainable params: 0\n",
      "_________________________________________________________________\n"
     ]
    }
   ],
   "source": [
    "cnn_model.summary()"
   ]
  },
  {
   "cell_type": "markdown",
   "metadata": {
    "pycharm": {
     "name": "#%% md\n"
    }
   },
   "source": [
    "# 使用fit()函数训练模型"
   ]
  },
  {
   "cell_type": "code",
   "execution_count": 19,
   "metadata": {
    "collapsed": false,
    "jupyter": {
     "outputs_hidden": false
    },
    "pycharm": {
     "name": "#%%\n"
    }
   },
   "outputs": [
    {
     "name": "stdout",
     "output_type": "stream",
     "text": [
      "Epoch 1/50\n",
      "160/160 [==============================] - 16s 4ms/step - loss: 1.1703 - accuracy: 0.6349 - val_loss: 0.6621 - val_accuracy: 0.7844\n",
      "Epoch 2/50\n",
      "160/160 [==============================] - 0s 3ms/step - loss: 0.6486 - accuracy: 0.7776 - val_loss: 0.5288 - val_accuracy: 0.8178\n",
      "Epoch 3/50\n",
      "160/160 [==============================] - 0s 2ms/step - loss: 0.5488 - accuracy: 0.8094 - val_loss: 0.4722 - val_accuracy: 0.8350\n",
      "Epoch 4/50\n",
      "160/160 [==============================] - 0s 3ms/step - loss: 0.5004 - accuracy: 0.8265 - val_loss: 0.4378 - val_accuracy: 0.8470\n",
      "Epoch 5/50\n",
      "160/160 [==============================] - 0s 3ms/step - loss: 0.4682 - accuracy: 0.8367 - val_loss: 0.4143 - val_accuracy: 0.8561\n",
      "Epoch 6/50\n",
      "160/160 [==============================] - 0s 2ms/step - loss: 0.4444 - accuracy: 0.8444 - val_loss: 0.3975 - val_accuracy: 0.8622\n",
      "Epoch 7/50\n",
      "160/160 [==============================] - 0s 3ms/step - loss: 0.4244 - accuracy: 0.8518 - val_loss: 0.3815 - val_accuracy: 0.8662\n",
      "Epoch 8/50\n",
      "160/160 [==============================] - 0s 3ms/step - loss: 0.4087 - accuracy: 0.8577 - val_loss: 0.3665 - val_accuracy: 0.8717\n",
      "Epoch 9/50\n",
      "160/160 [==============================] - 0s 3ms/step - loss: 0.3951 - accuracy: 0.8617 - val_loss: 0.3610 - val_accuracy: 0.8722\n",
      "Epoch 10/50\n",
      "160/160 [==============================] - 0s 2ms/step - loss: 0.3851 - accuracy: 0.8661 - val_loss: 0.3512 - val_accuracy: 0.8781\n",
      "Epoch 11/50\n",
      "160/160 [==============================] - 0s 2ms/step - loss: 0.3758 - accuracy: 0.8689 - val_loss: 0.3427 - val_accuracy: 0.8798\n",
      "Epoch 12/50\n",
      "160/160 [==============================] - 0s 3ms/step - loss: 0.3671 - accuracy: 0.8713 - val_loss: 0.3363 - val_accuracy: 0.8826\n",
      "Epoch 13/50\n",
      "160/160 [==============================] - 0s 3ms/step - loss: 0.3574 - accuracy: 0.8757 - val_loss: 0.3309 - val_accuracy: 0.8816\n",
      "Epoch 14/50\n",
      "160/160 [==============================] - 0s 3ms/step - loss: 0.3523 - accuracy: 0.8766 - val_loss: 0.3253 - val_accuracy: 0.8845\n",
      "Epoch 15/50\n",
      "160/160 [==============================] - 0s 3ms/step - loss: 0.3469 - accuracy: 0.8785 - val_loss: 0.3221 - val_accuracy: 0.8848\n",
      "Epoch 16/50\n",
      "160/160 [==============================] - 0s 3ms/step - loss: 0.3429 - accuracy: 0.8805 - val_loss: 0.3172 - val_accuracy: 0.8870\n",
      "Epoch 17/50\n",
      "160/160 [==============================] - 0s 2ms/step - loss: 0.3348 - accuracy: 0.8825 - val_loss: 0.3139 - val_accuracy: 0.8886\n",
      "Epoch 18/50\n",
      "160/160 [==============================] - 0s 3ms/step - loss: 0.3306 - accuracy: 0.8836 - val_loss: 0.3118 - val_accuracy: 0.8898\n",
      "Epoch 19/50\n",
      "160/160 [==============================] - 0s 3ms/step - loss: 0.3255 - accuracy: 0.8848 - val_loss: 0.3061 - val_accuracy: 0.8907\n",
      "Epoch 20/50\n",
      "160/160 [==============================] - 0s 3ms/step - loss: 0.3200 - accuracy: 0.8877 - val_loss: 0.3017 - val_accuracy: 0.8913\n",
      "Epoch 21/50\n",
      "160/160 [==============================] - 0s 2ms/step - loss: 0.3152 - accuracy: 0.8895 - val_loss: 0.2987 - val_accuracy: 0.8932\n",
      "Epoch 22/50\n",
      "160/160 [==============================] - 0s 3ms/step - loss: 0.3108 - accuracy: 0.8907 - val_loss: 0.2949 - val_accuracy: 0.8940\n",
      "Epoch 23/50\n",
      "160/160 [==============================] - 0s 3ms/step - loss: 0.3070 - accuracy: 0.8916 - val_loss: 0.2912 - val_accuracy: 0.8953\n",
      "Epoch 24/50\n",
      "160/160 [==============================] - 0s 2ms/step - loss: 0.3037 - accuracy: 0.8938 - val_loss: 0.2915 - val_accuracy: 0.8960\n",
      "Epoch 25/50\n",
      "160/160 [==============================] - 0s 2ms/step - loss: 0.2999 - accuracy: 0.8933 - val_loss: 0.2891 - val_accuracy: 0.8959\n",
      "Epoch 26/50\n",
      "160/160 [==============================] - 0s 3ms/step - loss: 0.2972 - accuracy: 0.8953 - val_loss: 0.2837 - val_accuracy: 0.8984\n",
      "Epoch 27/50\n",
      "160/160 [==============================] - 0s 3ms/step - loss: 0.2928 - accuracy: 0.8968 - val_loss: 0.2833 - val_accuracy: 0.8986\n",
      "Epoch 28/50\n",
      "160/160 [==============================] - 0s 3ms/step - loss: 0.2905 - accuracy: 0.8979 - val_loss: 0.2802 - val_accuracy: 0.9007\n",
      "Epoch 29/50\n",
      "160/160 [==============================] - 0s 3ms/step - loss: 0.2861 - accuracy: 0.8986 - val_loss: 0.2785 - val_accuracy: 0.9000\n",
      "Epoch 30/50\n",
      "160/160 [==============================] - 0s 3ms/step - loss: 0.2836 - accuracy: 0.9000 - val_loss: 0.2745 - val_accuracy: 0.9017\n",
      "Epoch 31/50\n",
      "160/160 [==============================] - 0s 2ms/step - loss: 0.2800 - accuracy: 0.9000 - val_loss: 0.2747 - val_accuracy: 0.9018\n",
      "Epoch 32/50\n",
      "160/160 [==============================] - 0s 3ms/step - loss: 0.2767 - accuracy: 0.9018 - val_loss: 0.2740 - val_accuracy: 0.9022\n",
      "Epoch 33/50\n",
      "160/160 [==============================] - 0s 3ms/step - loss: 0.2757 - accuracy: 0.9031 - val_loss: 0.2724 - val_accuracy: 0.9033\n",
      "Epoch 34/50\n",
      "160/160 [==============================] - 0s 2ms/step - loss: 0.2709 - accuracy: 0.9034 - val_loss: 0.2689 - val_accuracy: 0.9034\n",
      "Epoch 35/50\n",
      "160/160 [==============================] - 0s 2ms/step - loss: 0.2708 - accuracy: 0.9036 - val_loss: 0.2676 - val_accuracy: 0.9043\n",
      "Epoch 36/50\n",
      "160/160 [==============================] - 0s 3ms/step - loss: 0.2667 - accuracy: 0.9044 - val_loss: 0.2650 - val_accuracy: 0.9040\n",
      "Epoch 37/50\n",
      "160/160 [==============================] - 0s 2ms/step - loss: 0.2641 - accuracy: 0.9065 - val_loss: 0.2626 - val_accuracy: 0.9064\n",
      "Epoch 38/50\n",
      "160/160 [==============================] - 0s 3ms/step - loss: 0.2630 - accuracy: 0.9060 - val_loss: 0.2636 - val_accuracy: 0.9057\n",
      "Epoch 39/50\n",
      "160/160 [==============================] - 0s 3ms/step - loss: 0.2610 - accuracy: 0.9069 - val_loss: 0.2612 - val_accuracy: 0.9059\n",
      "Epoch 40/50\n",
      "160/160 [==============================] - 0s 3ms/step - loss: 0.2561 - accuracy: 0.9091 - val_loss: 0.2594 - val_accuracy: 0.9071\n",
      "Epoch 41/50\n",
      "160/160 [==============================] - 0s 3ms/step - loss: 0.2542 - accuracy: 0.9091 - val_loss: 0.2587 - val_accuracy: 0.9078\n",
      "Epoch 42/50\n",
      "160/160 [==============================] - 0s 3ms/step - loss: 0.2555 - accuracy: 0.9087 - val_loss: 0.2568 - val_accuracy: 0.9080\n",
      "Epoch 43/50\n",
      "160/160 [==============================] - 0s 2ms/step - loss: 0.2505 - accuracy: 0.9107 - val_loss: 0.2551 - val_accuracy: 0.9088\n",
      "Epoch 44/50\n",
      "160/160 [==============================] - 0s 3ms/step - loss: 0.2480 - accuracy: 0.9110 - val_loss: 0.2550 - val_accuracy: 0.9082\n",
      "Epoch 45/50\n",
      "160/160 [==============================] - 0s 3ms/step - loss: 0.2474 - accuracy: 0.9124 - val_loss: 0.2539 - val_accuracy: 0.9089\n",
      "Epoch 46/50\n",
      "160/160 [==============================] - 0s 3ms/step - loss: 0.2447 - accuracy: 0.9139 - val_loss: 0.2555 - val_accuracy: 0.9085\n",
      "Epoch 47/50\n",
      "160/160 [==============================] - 0s 2ms/step - loss: 0.2446 - accuracy: 0.9127 - val_loss: 0.2512 - val_accuracy: 0.9093\n",
      "Epoch 48/50\n",
      "160/160 [==============================] - 0s 2ms/step - loss: 0.2417 - accuracy: 0.9135 - val_loss: 0.2506 - val_accuracy: 0.9101\n",
      "Epoch 49/50\n",
      "160/160 [==============================] - 0s 2ms/step - loss: 0.2390 - accuracy: 0.9154 - val_loss: 0.2484 - val_accuracy: 0.9102\n",
      "Epoch 50/50\n",
      "160/160 [==============================] - 0s 3ms/step - loss: 0.2361 - accuracy: 0.9154 - val_loss: 0.2484 - val_accuracy: 0.9110\n"
     ]
    }
   ],
   "source": [
    "history = cnn_model.fit(X_train, y_train,\n",
    "          batch_size=300,\n",
    "          epochs=50,\n",
    "          verbose=1,\n",
    "          validation_data=(X_validate, y_validate))"
   ]
  },
  {
   "cell_type": "code",
   "execution_count": 12,
   "outputs": [],
   "source": [
    "from tensorflow.keras.models import load_model\n",
    "cnn_model=load_model('saved_model/cnn_Model1.h5')"
   ],
   "metadata": {
    "collapsed": false,
    "pycharm": {
     "name": "#%%\n"
    }
   }
  },
  {
   "cell_type": "code",
   "execution_count": 13,
   "metadata": {
    "collapsed": false,
    "jupyter": {
     "outputs_hidden": false
    },
    "pycharm": {
     "name": "#%%\n"
    }
   },
   "outputs": [
    {
     "name": "stdout",
     "output_type": "stream",
     "text": [
      "Test loss: 0.22947758436203003\n",
      "Test accuracy: 91.68000221252441\n"
     ]
    }
   ],
   "source": [
    "score = cnn_model.evaluate(X_test, y_test, verbose=0)\n",
    "print('Test loss:', score[0])\n",
    "print('Test accuracy:', score[1]*100)"
   ]
  },
  {
   "cell_type": "markdown",
   "metadata": {
    "pycharm": {
     "name": "#%% md\n"
    }
   },
   "source": [
    "#### 储存模型"
   ]
  },
  {
   "cell_type": "code",
   "execution_count": 21,
   "metadata": {
    "collapsed": false,
    "jupyter": {
     "outputs_hidden": false
    },
    "pycharm": {
     "name": "#%%\n"
    }
   },
   "outputs": [
    {
     "name": "stdout",
     "output_type": "stream",
     "text": [
      "Model: \"sequential_1\"\n",
      "_________________________________________________________________\n",
      "Layer (type)                 Output Shape              Param #   \n",
      "=================================================================\n",
      "conv2d (Conv2D)              (None, 26, 26, 32)        320       \n",
      "_________________________________________________________________\n",
      "max_pooling2d (MaxPooling2D) (None, 13, 13, 32)        0         \n",
      "_________________________________________________________________\n",
      "dropout (Dropout)            (None, 13, 13, 32)        0         \n",
      "_________________________________________________________________\n",
      "flatten (Flatten)            (None, 5408)              0         \n",
      "_________________________________________________________________\n",
      "dense_3 (Dense)              (None, 128)               692352    \n",
      "_________________________________________________________________\n",
      "dropout_1 (Dropout)          (None, 128)               0         \n",
      "_________________________________________________________________\n",
      "dense_4 (Dense)              (None, 10)                1290      \n",
      "=================================================================\n",
      "Total params: 693,962\n",
      "Trainable params: 693,962\n",
      "Non-trainable params: 0\n",
      "_________________________________________________________________\n"
     ]
    }
   ],
   "source": [
    "from tensorflow.keras.models import load_model\n",
    "cnn_model.save('saved_model/cnn_Model1.h5')\n",
    "\n",
    "model123=load_model('saved_model/cnn_Model1.h5')\n",
    "model123.summary()"
   ]
  },
  {
   "cell_type": "code",
   "execution_count": 22,
   "metadata": {
    "collapsed": false,
    "jupyter": {
     "outputs_hidden": false
    },
    "pycharm": {
     "name": "#%%\n"
    }
   },
   "outputs": [
    {
     "data": {
      "image/png": "[encoded data removed]",
      "text/plain": [
       "<Figure size 1296x576 with 2 Axes>"
      ]
     },
     "metadata": {
      "needs_background": "light"
     },
     "output_type": "display_data"
    }
   ],
   "source": [
    "plt.figure(figsize = (18,8))\n",
    "plt.subplot(121)\n",
    "plt.plot(history.history['loss'], color='darkcyan', label=\"Training loss\")\n",
    "plt.plot(history.history['val_loss'], color='maroon', label=\"validation loss\",)\n",
    "plt.xlabel('Epochs')\n",
    "plt.ylabel('1loss')\n",
    "plt.legend(loc='best', shadow=True)\n",
    "plt.subplot(122)\n",
    "plt.plot(history.history['accuracy'], color='darkcyan', label=\"Training accuracy\")\n",
    "plt.plot(history.history['val_accuracy'], color='maroon',label=\"Validation accuracy\")\n",
    "plt.xlabel('Epochs')\n",
    "plt.ylabel('accuracy')\n",
    "plt.legend(loc='best', shadow=True)\n",
    "plt.show()"
   ]
  },
  {
   "cell_type": "markdown",
   "metadata": {
    "pycharm": {
     "name": "#%% md\n"
    }
   },
   "source": [
    "# 两层卷积层，一个2x2池层，两个全连接层，分别有68和128个神经元"
   ]
  },
  {
   "cell_type": "code",
   "execution_count": 23,
   "metadata": {
    "collapsed": false,
    "jupyter": {
     "outputs_hidden": false
    },
    "pycharm": {
     "name": "#%%\n"
    }
   },
   "outputs": [],
   "source": [
    "from tensorflow.python.keras.layers import Dense\n",
    "from tensorflow.python.keras.layers import Conv2D\n",
    "from tensorflow.python.keras.layers import MaxPooling2D\n",
    "from tensorflow.python.keras.layers import Dropout\n",
    "from tensorflow.python.keras.layers import Flatten\n",
    "cnn_model = tf.keras.models.Sequential()\n",
    "cnn_model_2 = tf.keras.models.Sequential()\n",
    "\n",
    "cnn_model_2.add(Conv2D(32, kernel_size=(3, 3), activation='relu', input_shape=input_shape))\n",
    "cnn_model_2.add(Dropout(0.2))\n",
    "cnn_model_2.add(Conv2D(64, kernel_size=(3, 3), activation='relu'))\n",
    "cnn_model_2.add(MaxPooling2D(pool_size=(2, 2)))\n",
    "\n",
    "cnn_model_2.add(Dropout(0.3))\n",
    "cnn_model_2.add(Flatten())\n",
    "\n",
    "cnn_model_2.add(Dense(64, activation='relu'))\n",
    "model.add(Dropout(0.3))\n",
    "cnn_model_2.add(Dense(128, activation='relu'))\n",
    "model.add(Dropout(0.3))\n",
    "\n",
    "cnn_model_2.add(Dense(10, activation='softmax'))"
   ]
  },
  {
   "cell_type": "code",
   "execution_count": 24,
   "metadata": {
    "collapsed": false,
    "jupyter": {
     "outputs_hidden": false
    },
    "pycharm": {
     "name": "#%%\n"
    }
   },
   "outputs": [
    {
     "name": "stdout",
     "output_type": "stream",
     "text": [
      "Model: \"sequential_3\"\n",
      "_________________________________________________________________\n",
      "Layer (type)                 Output Shape              Param #   \n",
      "=================================================================\n",
      "conv2d_1 (Conv2D)            (None, 26, 26, 32)        320       \n",
      "_________________________________________________________________\n",
      "dropout_2 (Dropout)          (None, 26, 26, 32)        0         \n",
      "_________________________________________________________________\n",
      "conv2d_2 (Conv2D)            (None, 24, 24, 64)        18496     \n",
      "_________________________________________________________________\n",
      "max_pooling2d_1 (MaxPooling2 (None, 12, 12, 64)        0         \n",
      "_________________________________________________________________\n",
      "dropout_3 (Dropout)          (None, 12, 12, 64)        0         \n",
      "_________________________________________________________________\n",
      "flatten_1 (Flatten)          (None, 9216)              0         \n",
      "_________________________________________________________________\n",
      "dense_5 (Dense)              (None, 64)                589888    \n",
      "_________________________________________________________________\n",
      "dense_6 (Dense)              (None, 128)               8320      \n",
      "_________________________________________________________________\n",
      "dense_7 (Dense)              (None, 10)                1290      \n",
      "=================================================================\n",
      "Total params: 618,314\n",
      "Trainable params: 618,314\n",
      "Non-trainable params: 0\n",
      "_________________________________________________________________\n"
     ]
    }
   ],
   "source": [
    "cnn_model_2.summary()"
   ]
  },
  {
   "cell_type": "code",
   "execution_count": 25,
   "metadata": {
    "collapsed": false,
    "jupyter": {
     "outputs_hidden": false
    },
    "pycharm": {
     "name": "#%%\n"
    }
   },
   "outputs": [],
   "source": [
    "cnn_model_2.compile(optimizer= Adam(lr= 0.0001),\n",
    "          loss='categorical_crossentropy',\n",
    "          metrics=['accuracy'])"
   ]
  },
  {
   "cell_type": "code",
   "execution_count": 26,
   "metadata": {
    "collapsed": false,
    "jupyter": {
     "outputs_hidden": false
    },
    "pycharm": {
     "name": "#%%\n"
    }
   },
   "outputs": [],
   "source": [
    "from tensorflow.keras.callbacks import EarlyStopping\n",
    "early_stopping_monitor = EarlyStopping(patience = 3)"
   ]
  },
  {
   "cell_type": "code",
   "execution_count": 27,
   "metadata": {
    "collapsed": false,
    "jupyter": {
     "outputs_hidden": false
    },
    "pycharm": {
     "name": "#%%\n"
    }
   },
   "outputs": [
    {
     "name": "stdout",
     "output_type": "stream",
     "text": [
      "Epoch 1/50\n",
      "160/160 [==============================] - 2s 5ms/step - loss: 1.0648 - accuracy: 0.6403 - val_loss: 0.6539 - val_accuracy: 0.7648\n",
      "Epoch 2/50\n",
      "160/160 [==============================] - 1s 4ms/step - loss: 0.5918 - accuracy: 0.7853 - val_loss: 0.5430 - val_accuracy: 0.8018\n",
      "Epoch 3/50\n",
      "160/160 [==============================] - 1s 4ms/step - loss: 0.5217 - accuracy: 0.8109 - val_loss: 0.4941 - val_accuracy: 0.8275\n",
      "Epoch 4/50\n",
      "160/160 [==============================] - 1s 4ms/step - loss: 0.4833 - accuracy: 0.8265 - val_loss: 0.4542 - val_accuracy: 0.8422\n",
      "Epoch 5/50\n",
      "160/160 [==============================] - 1s 4ms/step - loss: 0.4537 - accuracy: 0.8392 - val_loss: 0.4302 - val_accuracy: 0.8518\n",
      "Epoch 6/50\n",
      "160/160 [==============================] - 1s 4ms/step - loss: 0.4311 - accuracy: 0.8470 - val_loss: 0.4113 - val_accuracy: 0.8587\n",
      "Epoch 7/50\n",
      "160/160 [==============================] - 1s 4ms/step - loss: 0.4178 - accuracy: 0.8511 - val_loss: 0.3988 - val_accuracy: 0.8622\n",
      "Epoch 8/50\n",
      "160/160 [==============================] - 1s 4ms/step - loss: 0.3979 - accuracy: 0.8588 - val_loss: 0.3886 - val_accuracy: 0.8639\n",
      "Epoch 9/50\n",
      "160/160 [==============================] - 1s 4ms/step - loss: 0.3862 - accuracy: 0.8628 - val_loss: 0.3811 - val_accuracy: 0.8668\n",
      "Epoch 10/50\n",
      "160/160 [==============================] - 1s 4ms/step - loss: 0.3741 - accuracy: 0.8676 - val_loss: 0.3774 - val_accuracy: 0.8676\n",
      "Epoch 11/50\n",
      "160/160 [==============================] - 1s 5ms/step - loss: 0.3648 - accuracy: 0.8707 - val_loss: 0.3622 - val_accuracy: 0.8721\n",
      "Epoch 12/50\n",
      "160/160 [==============================] - 1s 4ms/step - loss: 0.3533 - accuracy: 0.8741 - val_loss: 0.3551 - val_accuracy: 0.8765\n",
      "Epoch 13/50\n",
      "160/160 [==============================] - 1s 4ms/step - loss: 0.3454 - accuracy: 0.8776 - val_loss: 0.3489 - val_accuracy: 0.8750\n",
      "Epoch 14/50\n",
      "160/160 [==============================] - 1s 4ms/step - loss: 0.3382 - accuracy: 0.8799 - val_loss: 0.3490 - val_accuracy: 0.8777\n",
      "Epoch 15/50\n",
      "160/160 [==============================] - 1s 5ms/step - loss: 0.3297 - accuracy: 0.8821 - val_loss: 0.3303 - val_accuracy: 0.8835\n",
      "Epoch 16/50\n",
      "160/160 [==============================] - 1s 4ms/step - loss: 0.3277 - accuracy: 0.8827 - val_loss: 0.3241 - val_accuracy: 0.8859\n",
      "Epoch 17/50\n",
      "160/160 [==============================] - 1s 4ms/step - loss: 0.3179 - accuracy: 0.8852 - val_loss: 0.3190 - val_accuracy: 0.8878\n",
      "Epoch 18/50\n",
      "160/160 [==============================] - 1s 4ms/step - loss: 0.3125 - accuracy: 0.8888 - val_loss: 0.3138 - val_accuracy: 0.8909\n",
      "Epoch 19/50\n",
      "160/160 [==============================] - 1s 5ms/step - loss: 0.3060 - accuracy: 0.8907 - val_loss: 0.3270 - val_accuracy: 0.8838\n",
      "Epoch 20/50\n",
      "160/160 [==============================] - 1s 4ms/step - loss: 0.3017 - accuracy: 0.8920 - val_loss: 0.3156 - val_accuracy: 0.8888\n",
      "Epoch 21/50\n",
      "160/160 [==============================] - 1s 4ms/step - loss: 0.2963 - accuracy: 0.8942 - val_loss: 0.3002 - val_accuracy: 0.8957\n",
      "Epoch 22/50\n",
      "160/160 [==============================] - 1s 4ms/step - loss: 0.2913 - accuracy: 0.8964 - val_loss: 0.3025 - val_accuracy: 0.8946\n",
      "Epoch 23/50\n",
      "160/160 [==============================] - 1s 4ms/step - loss: 0.2839 - accuracy: 0.8984 - val_loss: 0.2907 - val_accuracy: 0.8982\n",
      "Epoch 24/50\n",
      "160/160 [==============================] - 1s 4ms/step - loss: 0.2798 - accuracy: 0.8989 - val_loss: 0.2907 - val_accuracy: 0.8971\n",
      "Epoch 25/50\n",
      "160/160 [==============================] - 1s 4ms/step - loss: 0.2766 - accuracy: 0.9015 - val_loss: 0.2893 - val_accuracy: 0.8988\n",
      "Epoch 26/50\n",
      "160/160 [==============================] - 1s 4ms/step - loss: 0.2686 - accuracy: 0.9036 - val_loss: 0.2858 - val_accuracy: 0.8998\n",
      "Epoch 27/50\n",
      "160/160 [==============================] - 1s 4ms/step - loss: 0.2668 - accuracy: 0.9037 - val_loss: 0.2778 - val_accuracy: 0.9021\n",
      "Epoch 28/50\n",
      "160/160 [==============================] - 1s 4ms/step - loss: 0.2635 - accuracy: 0.9061 - val_loss: 0.2755 - val_accuracy: 0.9024\n",
      "Epoch 29/50\n",
      "160/160 [==============================] - 1s 4ms/step - loss: 0.2585 - accuracy: 0.9080 - val_loss: 0.2758 - val_accuracy: 0.9018\n",
      "Epoch 30/50\n",
      "160/160 [==============================] - 1s 4ms/step - loss: 0.2521 - accuracy: 0.9099 - val_loss: 0.2719 - val_accuracy: 0.9038\n",
      "Epoch 31/50\n",
      "160/160 [==============================] - 1s 4ms/step - loss: 0.2501 - accuracy: 0.9101 - val_loss: 0.2667 - val_accuracy: 0.9065\n",
      "Epoch 32/50\n",
      "160/160 [==============================] - 1s 4ms/step - loss: 0.2472 - accuracy: 0.9109 - val_loss: 0.2658 - val_accuracy: 0.9062\n",
      "Epoch 33/50\n",
      "160/160 [==============================] - 1s 4ms/step - loss: 0.2428 - accuracy: 0.9126 - val_loss: 0.2637 - val_accuracy: 0.9068\n",
      "Epoch 34/50\n",
      "160/160 [==============================] - 1s 4ms/step - loss: 0.2399 - accuracy: 0.9134 - val_loss: 0.2623 - val_accuracy: 0.9064\n",
      "Epoch 35/50\n",
      "160/160 [==============================] - 1s 4ms/step - loss: 0.2371 - accuracy: 0.9138 - val_loss: 0.2638 - val_accuracy: 0.9057\n",
      "Epoch 36/50\n",
      "160/160 [==============================] - 1s 4ms/step - loss: 0.2333 - accuracy: 0.9160 - val_loss: 0.2586 - val_accuracy: 0.9096\n",
      "Epoch 37/50\n",
      "160/160 [==============================] - 1s 4ms/step - loss: 0.2308 - accuracy: 0.9170 - val_loss: 0.2597 - val_accuracy: 0.9091\n",
      "Epoch 38/50\n",
      "160/160 [==============================] - 1s 4ms/step - loss: 0.2278 - accuracy: 0.9168 - val_loss: 0.2592 - val_accuracy: 0.9073\n",
      "Epoch 39/50\n",
      "160/160 [==============================] - 1s 4ms/step - loss: 0.2231 - accuracy: 0.9187 - val_loss: 0.2551 - val_accuracy: 0.9104\n",
      "Epoch 40/50\n",
      "160/160 [==============================] - 1s 4ms/step - loss: 0.2192 - accuracy: 0.9202 - val_loss: 0.2562 - val_accuracy: 0.9103\n",
      "Epoch 41/50\n",
      "160/160 [==============================] - 1s 4ms/step - loss: 0.2173 - accuracy: 0.9217 - val_loss: 0.2538 - val_accuracy: 0.9087\n",
      "Epoch 42/50\n",
      "160/160 [==============================] - 1s 4ms/step - loss: 0.2124 - accuracy: 0.9239 - val_loss: 0.2496 - val_accuracy: 0.9115\n",
      "Epoch 43/50\n",
      "160/160 [==============================] - 1s 4ms/step - loss: 0.2121 - accuracy: 0.9233 - val_loss: 0.2489 - val_accuracy: 0.9121\n",
      "Epoch 44/50\n",
      "160/160 [==============================] - 1s 4ms/step - loss: 0.2076 - accuracy: 0.9245 - val_loss: 0.2475 - val_accuracy: 0.9118\n",
      "Epoch 45/50\n",
      "160/160 [==============================] - 1s 4ms/step - loss: 0.2073 - accuracy: 0.9255 - val_loss: 0.2542 - val_accuracy: 0.9107\n",
      "Epoch 46/50\n",
      "160/160 [==============================] - 1s 4ms/step - loss: 0.2024 - accuracy: 0.9264 - val_loss: 0.2447 - val_accuracy: 0.9118\n",
      "Epoch 47/50\n",
      "160/160 [==============================] - 1s 4ms/step - loss: 0.1987 - accuracy: 0.9281 - val_loss: 0.2484 - val_accuracy: 0.9123\n",
      "Epoch 48/50\n",
      "160/160 [==============================] - 1s 4ms/step - loss: 0.1960 - accuracy: 0.9297 - val_loss: 0.2466 - val_accuracy: 0.9123\n",
      "Epoch 49/50\n",
      "160/160 [==============================] - 1s 4ms/step - loss: 0.1943 - accuracy: 0.9289 - val_loss: 0.2456 - val_accuracy: 0.9131\n",
      "Epoch 50/50\n",
      "160/160 [==============================] - 1s 4ms/step - loss: 0.1925 - accuracy: 0.9301 - val_loss: 0.2506 - val_accuracy: 0.9100\n"
     ]
    }
   ],
   "source": [
    "history_2 = cnn_model_2.fit(X_train, y_train,\n",
    "          batch_size= 300,\n",
    "          epochs=50,\n",
    "          verbose=1,\n",
    "          validation_data=(X_validate, y_validate))"
   ]
  },
  {
   "cell_type": "code",
   "execution_count": 14,
   "outputs": [],
   "source": [
    "from tensorflow.keras.models import load_model\n",
    "cnn_model_2=load_model('saved_model/cnn_Model2.h5')"
   ],
   "metadata": {
    "collapsed": false,
    "pycharm": {
     "name": "#%%\n"
    }
   }
  },
  {
   "cell_type": "code",
   "execution_count": 15,
   "metadata": {
    "collapsed": false,
    "jupyter": {
     "outputs_hidden": false
    },
    "pycharm": {
     "name": "#%%\n"
    }
   },
   "outputs": [
    {
     "name": "stdout",
     "output_type": "stream",
     "text": [
      "Test loss: 0.21380963921546936\n",
      "Test accuracy: 92.14000105857849\n"
     ]
    }
   ],
   "source": [
    "score = cnn_model_2.evaluate(X_test, y_test, verbose=0)\n",
    "print('Test loss:', score[0])\n",
    "print('Test accuracy:', score[1]*100)"
   ]
  },
  {
   "cell_type": "markdown",
   "metadata": {
    "pycharm": {
     "name": "#%% md\n"
    }
   },
   "source": [
    "#### 储存模型"
   ]
  },
  {
   "cell_type": "code",
   "execution_count": 30,
   "metadata": {
    "collapsed": false,
    "jupyter": {
     "outputs_hidden": false
    },
    "pycharm": {
     "name": "#%%\n"
    }
   },
   "outputs": [],
   "source": [
    "from tensorflow.keras.models import load_model\n",
    "cnn_model_2.save('saved_model/cnn_Model2.h5')"
   ]
  },
  {
   "cell_type": "code",
   "execution_count": 31,
   "metadata": {
    "collapsed": false,
    "jupyter": {
     "outputs_hidden": false
    },
    "pycharm": {
     "name": "#%%\n"
    }
   },
   "outputs": [
    {
     "data": {
      "image/png": "[encoded data removed]",
      "text/plain": [
       "<Figure size 1296x576 with 2 Axes>"
      ]
     },
     "metadata": {
      "needs_background": "light"
     },
     "output_type": "display_data"
    }
   ],
   "source": [
    "plt.figure(figsize = (18,8))\n",
    "plt.subplot(121)\n",
    "plt.plot(history_2.history['loss'], color='darkcyan', label=\"Training loss\")\n",
    "plt.plot(history_2.history['val_loss'], color='maroon', label=\"validation loss\",)\n",
    "plt.xlabel('Epochs')\n",
    "plt.ylabel('loss')\n",
    "plt.legend(loc='best', shadow=True)\n",
    "plt.subplot(122)\n",
    "plt.plot(history_2.history['accuracy'], color='darkcyan', label=\"Training accuracy\")\n",
    "plt.plot(history_2.history['val_accuracy'], color='maroon',label=\"Validation accuracy\")\n",
    "plt.xlabel('Epochs')\n",
    "plt.ylabel('accuracy')\n",
    "plt.legend(loc='best', shadow=True)\n",
    "plt.show()"
   ]
  },
  {
   "cell_type": "markdown",
   "metadata": {
    "pycharm": {
     "name": "#%% md\n"
    }
   },
   "source": [
    "# 三层卷积层 两个2x2池层，两个全连接层，分别有128和256个神经元"
   ]
  },
  {
   "cell_type": "code",
   "execution_count": 32,
   "metadata": {
    "collapsed": false,
    "jupyter": {
     "outputs_hidden": false
    },
    "pycharm": {
     "name": "#%%\n"
    }
   },
   "outputs": [],
   "source": [
    "from tensorflow.python.keras.layers import Dense\n",
    "from tensorflow.python.keras.layers import Conv2D\n",
    "from tensorflow.python.keras.layers import MaxPooling2D\n",
    "from tensorflow.python.keras.layers import Dropout\n",
    "from tensorflow.python.keras.layers import Flatten\n",
    "cnn_model_3 = tf.keras.models.Sequential()\n",
    "\n",
    "cnn_model_3.add(Conv2D(32, kernel_size=(3, 3), activation='relu', input_shape=input_shape))\n",
    "cnn_model_3.add(Conv2D(64, kernel_size=(3, 3), activation='relu'))\n",
    "cnn_model_3.add(MaxPooling2D(pool_size=(2, 2)))\n",
    "cnn_model_3.add(Conv2D(128, kernel_size=(3, 3), activation='relu'))\n",
    "cnn_model_3.add(MaxPooling2D(pool_size=(2, 2)))\n",
    "\n",
    "cnn_model_3.add(Dropout(0.3))\n",
    "cnn_model_3.add(Flatten())\n",
    "\n",
    "cnn_model_3.add(Dense(128, activation='relu'))\n",
    "model.add(Dropout(0.5))\n",
    "\n",
    "cnn_model_3.add(Dense(256, activation='relu'))\n",
    "model.add(Dropout(0.5))\n",
    "\n",
    "cnn_model_3.add(Dense(10, activation='softmax'))"
   ]
  },
  {
   "cell_type": "code",
   "execution_count": 33,
   "metadata": {
    "collapsed": false,
    "jupyter": {
     "outputs_hidden": false
    },
    "pycharm": {
     "name": "#%%\n"
    }
   },
   "outputs": [
    {
     "name": "stdout",
     "output_type": "stream",
     "text": [
      "Model: \"sequential_4\"\n",
      "_________________________________________________________________\n",
      "Layer (type)                 Output Shape              Param #   \n",
      "=================================================================\n",
      "conv2d_3 (Conv2D)            (None, 26, 26, 32)        320       \n",
      "_________________________________________________________________\n",
      "conv2d_4 (Conv2D)            (None, 24, 24, 64)        18496     \n",
      "_________________________________________________________________\n",
      "max_pooling2d_2 (MaxPooling2 (None, 12, 12, 64)        0         \n",
      "_________________________________________________________________\n",
      "conv2d_5 (Conv2D)            (None, 10, 10, 128)       73856     \n",
      "_________________________________________________________________\n",
      "max_pooling2d_3 (MaxPooling2 (None, 5, 5, 128)         0         \n",
      "_________________________________________________________________\n",
      "dropout_6 (Dropout)          (None, 5, 5, 128)         0         \n",
      "_________________________________________________________________\n",
      "flatten_2 (Flatten)          (None, 3200)              0         \n",
      "_________________________________________________________________\n",
      "dense_8 (Dense)              (None, 128)               409728    \n",
      "_________________________________________________________________\n",
      "dense_9 (Dense)              (None, 256)               33024     \n",
      "_________________________________________________________________\n",
      "dense_10 (Dense)             (None, 10)                2570      \n",
      "=================================================================\n",
      "Total params: 537,994\n",
      "Trainable params: 537,994\n",
      "Non-trainable params: 0\n",
      "_________________________________________________________________\n"
     ]
    }
   ],
   "source": [
    "cnn_model_3.summary()"
   ]
  },
  {
   "cell_type": "code",
   "execution_count": 34,
   "metadata": {
    "collapsed": false,
    "jupyter": {
     "outputs_hidden": false
    },
    "pycharm": {
     "name": "#%%\n"
    }
   },
   "outputs": [],
   "source": [
    "cnn_model_3.compile(optimizer= Adam(lr= 0.0001),\n",
    "          loss='categorical_crossentropy',\n",
    "          metrics=['accuracy'])"
   ]
  },
  {
   "cell_type": "code",
   "execution_count": 35,
   "metadata": {
    "collapsed": false,
    "jupyter": {
     "outputs_hidden": false
    },
    "pycharm": {
     "name": "#%%\n"
    }
   },
   "outputs": [
    {
     "name": "stdout",
     "output_type": "stream",
     "text": [
      "Epoch 1/50\n",
      "160/160 [==============================] - 1s 6ms/step - loss: 1.1742 - accuracy: 0.6054 - val_loss: 0.6458 - val_accuracy: 0.7567\n",
      "Epoch 2/50\n",
      "160/160 [==============================] - 1s 5ms/step - loss: 0.6094 - accuracy: 0.7692 - val_loss: 0.5324 - val_accuracy: 0.7933\n",
      "Epoch 3/50\n",
      "160/160 [==============================] - 1s 5ms/step - loss: 0.5259 - accuracy: 0.8026 - val_loss: 0.4799 - val_accuracy: 0.8261\n",
      "Epoch 4/50\n",
      "160/160 [==============================] - 1s 5ms/step - loss: 0.4823 - accuracy: 0.8236 - val_loss: 0.4389 - val_accuracy: 0.8462\n",
      "Epoch 5/50\n",
      "160/160 [==============================] - 1s 5ms/step - loss: 0.4440 - accuracy: 0.8399 - val_loss: 0.4090 - val_accuracy: 0.8558\n",
      "Epoch 6/50\n",
      "160/160 [==============================] - 1s 5ms/step - loss: 0.4200 - accuracy: 0.8493 - val_loss: 0.3855 - val_accuracy: 0.8600\n",
      "Epoch 7/50\n",
      "160/160 [==============================] - 1s 5ms/step - loss: 0.4006 - accuracy: 0.8566 - val_loss: 0.3677 - val_accuracy: 0.8708\n",
      "Epoch 8/50\n",
      "160/160 [==============================] - 1s 5ms/step - loss: 0.3850 - accuracy: 0.8606 - val_loss: 0.3683 - val_accuracy: 0.8620\n",
      "Epoch 9/50\n",
      "160/160 [==============================] - 1s 5ms/step - loss: 0.3686 - accuracy: 0.8685 - val_loss: 0.3418 - val_accuracy: 0.8787\n",
      "Epoch 10/50\n",
      "160/160 [==============================] - 1s 5ms/step - loss: 0.3564 - accuracy: 0.8717 - val_loss: 0.3367 - val_accuracy: 0.8780\n",
      "Epoch 11/50\n",
      "160/160 [==============================] - 1s 5ms/step - loss: 0.3433 - accuracy: 0.8760 - val_loss: 0.3247 - val_accuracy: 0.8847\n",
      "Epoch 12/50\n",
      "160/160 [==============================] - 1s 5ms/step - loss: 0.3349 - accuracy: 0.8801 - val_loss: 0.3178 - val_accuracy: 0.8865\n",
      "Epoch 13/50\n",
      "160/160 [==============================] - 1s 5ms/step - loss: 0.3275 - accuracy: 0.8830 - val_loss: 0.3082 - val_accuracy: 0.8892\n",
      "Epoch 14/50\n",
      "160/160 [==============================] - 1s 5ms/step - loss: 0.3156 - accuracy: 0.8857 - val_loss: 0.3109 - val_accuracy: 0.8882\n",
      "Epoch 15/50\n",
      "160/160 [==============================] - 1s 5ms/step - loss: 0.3113 - accuracy: 0.8873 - val_loss: 0.3003 - val_accuracy: 0.8924\n",
      "Epoch 16/50\n",
      "160/160 [==============================] - 1s 5ms/step - loss: 0.3028 - accuracy: 0.8920 - val_loss: 0.2934 - val_accuracy: 0.8952\n",
      "Epoch 17/50\n",
      "160/160 [==============================] - 1s 5ms/step - loss: 0.2947 - accuracy: 0.8927 - val_loss: 0.2927 - val_accuracy: 0.8953\n",
      "Epoch 18/50\n",
      "160/160 [==============================] - 1s 5ms/step - loss: 0.2885 - accuracy: 0.8960 - val_loss: 0.2871 - val_accuracy: 0.8989\n",
      "Epoch 19/50\n",
      "160/160 [==============================] - 1s 5ms/step - loss: 0.2842 - accuracy: 0.8975 - val_loss: 0.2804 - val_accuracy: 0.8997\n",
      "Epoch 20/50\n",
      "160/160 [==============================] - 1s 5ms/step - loss: 0.2804 - accuracy: 0.8982 - val_loss: 0.2802 - val_accuracy: 0.9001\n",
      "Epoch 21/50\n",
      "160/160 [==============================] - 1s 5ms/step - loss: 0.2732 - accuracy: 0.9013 - val_loss: 0.2726 - val_accuracy: 0.9032\n",
      "Epoch 22/50\n",
      "160/160 [==============================] - 1s 5ms/step - loss: 0.2675 - accuracy: 0.9036 - val_loss: 0.2694 - val_accuracy: 0.9040\n",
      "Epoch 23/50\n",
      "160/160 [==============================] - 1s 5ms/step - loss: 0.2656 - accuracy: 0.9032 - val_loss: 0.2635 - val_accuracy: 0.9053\n",
      "Epoch 24/50\n",
      "160/160 [==============================] - 1s 5ms/step - loss: 0.2565 - accuracy: 0.9079 - val_loss: 0.2691 - val_accuracy: 0.9043\n",
      "Epoch 25/50\n",
      "160/160 [==============================] - 1s 5ms/step - loss: 0.2530 - accuracy: 0.9097 - val_loss: 0.2656 - val_accuracy: 0.9047\n",
      "Epoch 26/50\n",
      "160/160 [==============================] - 1s 5ms/step - loss: 0.2501 - accuracy: 0.9091 - val_loss: 0.2561 - val_accuracy: 0.9087\n",
      "Epoch 27/50\n",
      "160/160 [==============================] - 1s 5ms/step - loss: 0.2464 - accuracy: 0.9104 - val_loss: 0.2603 - val_accuracy: 0.9064\n",
      "Epoch 28/50\n",
      "160/160 [==============================] - 1s 5ms/step - loss: 0.2407 - accuracy: 0.9131 - val_loss: 0.2510 - val_accuracy: 0.9093\n",
      "Epoch 29/50\n",
      "160/160 [==============================] - 1s 5ms/step - loss: 0.2365 - accuracy: 0.9143 - val_loss: 0.2459 - val_accuracy: 0.9128\n",
      "Epoch 30/50\n",
      "160/160 [==============================] - 1s 5ms/step - loss: 0.2324 - accuracy: 0.9157 - val_loss: 0.2725 - val_accuracy: 0.9032\n",
      "Epoch 31/50\n",
      "160/160 [==============================] - 1s 5ms/step - loss: 0.2314 - accuracy: 0.9158 - val_loss: 0.2494 - val_accuracy: 0.9103\n",
      "Epoch 32/50\n",
      "160/160 [==============================] - 1s 5ms/step - loss: 0.2249 - accuracy: 0.9185 - val_loss: 0.2494 - val_accuracy: 0.9093\n",
      "Epoch 33/50\n",
      "160/160 [==============================] - 1s 5ms/step - loss: 0.2208 - accuracy: 0.9185 - val_loss: 0.2397 - val_accuracy: 0.9140\n",
      "Epoch 34/50\n",
      "160/160 [==============================] - 1s 5ms/step - loss: 0.2182 - accuracy: 0.9197 - val_loss: 0.2411 - val_accuracy: 0.9116\n",
      "Epoch 35/50\n",
      "160/160 [==============================] - 1s 5ms/step - loss: 0.2142 - accuracy: 0.9226 - val_loss: 0.2365 - val_accuracy: 0.9128\n",
      "Epoch 36/50\n",
      "160/160 [==============================] - 1s 5ms/step - loss: 0.2116 - accuracy: 0.9228 - val_loss: 0.2357 - val_accuracy: 0.9166\n",
      "Epoch 37/50\n",
      "160/160 [==============================] - 1s 5ms/step - loss: 0.2096 - accuracy: 0.9237 - val_loss: 0.2430 - val_accuracy: 0.9112\n",
      "Epoch 38/50\n",
      "160/160 [==============================] - 1s 5ms/step - loss: 0.2038 - accuracy: 0.9254 - val_loss: 0.2329 - val_accuracy: 0.9163\n",
      "Epoch 39/50\n",
      "160/160 [==============================] - 1s 5ms/step - loss: 0.2032 - accuracy: 0.9260 - val_loss: 0.2286 - val_accuracy: 0.9172\n",
      "Epoch 40/50\n",
      "160/160 [==============================] - 1s 5ms/step - loss: 0.1984 - accuracy: 0.9283 - val_loss: 0.2247 - val_accuracy: 0.9191\n",
      "Epoch 41/50\n",
      "160/160 [==============================] - 1s 5ms/step - loss: 0.1963 - accuracy: 0.9288 - val_loss: 0.2283 - val_accuracy: 0.9169\n",
      "Epoch 42/50\n",
      "160/160 [==============================] - 1s 5ms/step - loss: 0.1922 - accuracy: 0.9291 - val_loss: 0.2218 - val_accuracy: 0.9188\n",
      "Epoch 43/50\n",
      "160/160 [==============================] - 1s 5ms/step - loss: 0.1889 - accuracy: 0.9313 - val_loss: 0.2218 - val_accuracy: 0.9178\n",
      "Epoch 44/50\n",
      "160/160 [==============================] - 1s 5ms/step - loss: 0.1864 - accuracy: 0.9326 - val_loss: 0.2257 - val_accuracy: 0.9172\n",
      "Epoch 45/50\n",
      "160/160 [==============================] - 1s 5ms/step - loss: 0.1829 - accuracy: 0.9335 - val_loss: 0.2270 - val_accuracy: 0.9193\n",
      "Epoch 46/50\n",
      "160/160 [==============================] - 1s 5ms/step - loss: 0.1794 - accuracy: 0.9340 - val_loss: 0.2228 - val_accuracy: 0.9197\n",
      "Epoch 47/50\n",
      "160/160 [==============================] - 1s 5ms/step - loss: 0.1806 - accuracy: 0.9338 - val_loss: 0.2225 - val_accuracy: 0.9198\n",
      "Epoch 48/50\n",
      "160/160 [==============================] - 1s 5ms/step - loss: 0.1743 - accuracy: 0.9364 - val_loss: 0.2209 - val_accuracy: 0.9189\n",
      "Epoch 49/50\n",
      "160/160 [==============================] - 1s 5ms/step - loss: 0.1712 - accuracy: 0.9377 - val_loss: 0.2228 - val_accuracy: 0.9202\n",
      "Epoch 50/50\n",
      "160/160 [==============================] - 1s 5ms/step - loss: 0.1693 - accuracy: 0.9380 - val_loss: 0.2197 - val_accuracy: 0.9208\n"
     ]
    }
   ],
   "source": [
    "history_3 = cnn_model_3.fit(X_train, y_train,\n",
    "                            batch_size=300,\n",
    "                            epochs=50,\n",
    "                            verbose=1,\n",
    "                            validation_data=(X_validate, y_validate))"
   ]
  },
  {
   "cell_type": "code",
   "execution_count": 16,
   "outputs": [],
   "source": [
    "from tensorflow.keras.models import load_model\n",
    "cnn_model_3=load_model('saved_model/cnn_Model3.h5')"
   ],
   "metadata": {
    "collapsed": false,
    "pycharm": {
     "name": "#%%\n"
    }
   }
  },
  {
   "cell_type": "code",
   "execution_count": 17,
   "metadata": {
    "collapsed": false,
    "jupyter": {
     "outputs_hidden": false
    },
    "pycharm": {
     "name": "#%%\n"
    }
   },
   "outputs": [
    {
     "name": "stdout",
     "output_type": "stream",
     "text": [
      "Test loss: 0.17780041694641113\n",
      "Test accuracy: 93.73000264167786\n"
     ]
    }
   ],
   "source": [
    "score = cnn_model_3.evaluate(X_test, y_test, verbose=0)\n",
    "print('Test loss:', score[0])\n",
    "print('Test accuracy:', score[1]*100)"
   ]
  },
  {
   "cell_type": "code",
   "execution_count": 37,
   "metadata": {
    "collapsed": false,
    "jupyter": {
     "outputs_hidden": false
    },
    "pycharm": {
     "name": "#%%\n"
    }
   },
   "outputs": [],
   "source": [
    "from tensorflow.keras.models import load_model\n",
    "cnn_model_3.save('saved_model/cnn_Model3.h5')"
   ]
  },
  {
   "cell_type": "code",
   "execution_count": 38,
   "metadata": {
    "collapsed": false,
    "jupyter": {
     "outputs_hidden": false
    },
    "pycharm": {
     "name": "#%%\n"
    }
   },
   "outputs": [
    {
     "data": {
      "image/png": "[encoded data removed]",
      "text/plain": [
       "<Figure size 1296x576 with 2 Axes>"
      ]
     },
     "metadata": {
      "needs_background": "light"
     },
     "output_type": "display_data"
    }
   ],
   "source": [
    "plt.figure(figsize = (18,8))\n",
    "plt.subplot(121)\n",
    "plt.plot(history_3.history['loss'], color='darkcyan', label=\"Training loss\")\n",
    "plt.plot(history_3.history['val_loss'], color='maroon', label=\"validation loss\",)\n",
    "plt.xlabel('Epochs')\n",
    "plt.ylabel('loss')\n",
    "plt.legend(loc='best', shadow=True)\n",
    "plt.subplot(122)\n",
    "plt.plot(history_3.history['accuracy'], color='darkcyan', label=\"Training accuracy\")\n",
    "plt.plot(history_3.history['val_accuracy'], color='maroon',label=\"Validation accuracy\")\n",
    "plt.xlabel('Epochs')\n",
    "plt.ylabel('accuracy')\n",
    "plt.legend(loc='best', shadow=True)\n",
    "plt.show()"
   ]
  },
  {
   "cell_type": "markdown",
   "metadata": {
    "pycharm": {
     "name": "#%% md\n"
    }
   },
   "source": [
    "# 四个卷积层，两个池层，三个全连接层，分别有128,256,512个神经元"
   ]
  },
  {
   "cell_type": "code",
   "execution_count": 39,
   "metadata": {
    "collapsed": false,
    "jupyter": {
     "outputs_hidden": false
    },
    "pycharm": {
     "name": "#%%\n"
    }
   },
   "outputs": [],
   "source": [
    "from tensorflow.python.keras.layers import Dense\n",
    "from tensorflow.python.keras.layers import Conv2D\n",
    "from tensorflow.python.keras.layers import MaxPooling2D\n",
    "from tensorflow.python.keras.layers import Dropout\n",
    "from tensorflow.python.keras.layers import Flatten\n",
    "cnn_model_4 =tf.keras.models.Sequential()\n",
    "\n",
    "cnn_model_4.add(Conv2D(32, 3, padding='same', activation='relu', input_shape=input_shape))\n",
    "cnn_model_4.add(Dropout(0.4))\n",
    "cnn_model_4.add(Conv2D(64, 3, padding='same', activation='relu'))\n",
    "cnn_model_4.add(MaxPooling2D(2))\n",
    "\n",
    "cnn_model_4.add(Conv2D(128, 3, padding='same', activation ='relu'))\n",
    "cnn_model_4.add(Dropout(0.4))\n",
    "cnn_model_4.add(Conv2D(256, 3, padding='same', activation ='relu'))\n",
    "cnn_model_4.add(MaxPooling2D(2, 2))\n",
    "cnn_model_4.add(Dropout(0.4))\n",
    "\n",
    "cnn_model_4.add(Flatten())\n",
    "cnn_model_4.add(Dense(128, activation='relu'))\n",
    "cnn_model_4.add(Dropout(0.5))\n",
    "\n",
    "cnn_model_4.add(Dense(256, activation='relu'))\n",
    "cnn_model_4.add(Dropout(0.5))\n",
    "\n",
    "cnn_model_4.add(Dense(512, activation='relu'))\n",
    "cnn_model_4.add(Dropout(0.5))\n",
    "\n",
    "cnn_model_4.add(Dense(10, activation='softmax'))"
   ]
  },
  {
   "cell_type": "code",
   "execution_count": 40,
   "metadata": {
    "pycharm": {
     "name": "#%%\n"
    }
   },
   "outputs": [
    {
     "name": "stdout",
     "output_type": "stream",
     "text": [
      "Model: \"sequential_5\"\n",
      "_________________________________________________________________\n",
      "Layer (type)                 Output Shape              Param #   \n",
      "=================================================================\n",
      "conv2d_6 (Conv2D)            (None, 28, 28, 32)        320       \n",
      "_________________________________________________________________\n",
      "dropout_9 (Dropout)          (None, 28, 28, 32)        0         \n",
      "_________________________________________________________________\n",
      "conv2d_7 (Conv2D)            (None, 28, 28, 64)        18496     \n",
      "_________________________________________________________________\n",
      "max_pooling2d_4 (MaxPooling2 (None, 14, 14, 64)        0         \n",
      "_________________________________________________________________\n",
      "conv2d_8 (Conv2D)            (None, 14, 14, 128)       73856     \n",
      "_________________________________________________________________\n",
      "dropout_10 (Dropout)         (None, 14, 14, 128)       0         \n",
      "_________________________________________________________________\n",
      "conv2d_9 (Conv2D)            (None, 14, 14, 256)       295168    \n",
      "_________________________________________________________________\n",
      "max_pooling2d_5 (MaxPooling2 (None, 7, 7, 256)         0         \n",
      "_________________________________________________________________\n",
      "dropout_11 (Dropout)         (None, 7, 7, 256)         0         \n",
      "_________________________________________________________________\n",
      "flatten_3 (Flatten)          (None, 12544)             0         \n",
      "_________________________________________________________________\n",
      "dense_11 (Dense)             (None, 128)               1605760   \n",
      "_________________________________________________________________\n",
      "dropout_12 (Dropout)         (None, 128)               0         \n",
      "_________________________________________________________________\n",
      "dense_12 (Dense)             (None, 256)               33024     \n",
      "_________________________________________________________________\n",
      "dropout_13 (Dropout)         (None, 256)               0         \n",
      "_________________________________________________________________\n",
      "dense_13 (Dense)             (None, 512)               131584    \n",
      "_________________________________________________________________\n",
      "dropout_14 (Dropout)         (None, 512)               0         \n",
      "_________________________________________________________________\n",
      "dense_14 (Dense)             (None, 10)                5130      \n",
      "=================================================================\n",
      "Total params: 2,163,338\n",
      "Trainable params: 2,163,338\n",
      "Non-trainable params: 0\n",
      "_________________________________________________________________\n"
     ]
    }
   ],
   "source": [
    "cnn_model_4.summary()"
   ]
  },
  {
   "cell_type": "code",
   "execution_count": 41,
   "metadata": {
    "pycharm": {
     "name": "#%%\n"
    }
   },
   "outputs": [],
   "source": [
    "cnn_model_4.compile(optimizer=Adam(lr = 0.0001),\n",
    "              loss = 'categorical_crossentropy',\n",
    "              metrics=['accuracy'])"
   ]
  },
  {
   "cell_type": "code",
   "execution_count": 42,
   "metadata": {
    "pycharm": {
     "name": "#%%\n"
    }
   },
   "outputs": [
    {
     "name": "stdout",
     "output_type": "stream",
     "text": [
      "Epoch 1/90\n",
      "160/160 [==============================] - 2s 9ms/step - loss: 1.7157 - accuracy: 0.3500 - val_loss: 1.1151 - val_accuracy: 0.5738\n",
      "Epoch 2/90\n",
      "160/160 [==============================] - 1s 8ms/step - loss: 1.0621 - accuracy: 0.5968 - val_loss: 0.7179 - val_accuracy: 0.7570\n",
      "Epoch 3/90\n",
      "160/160 [==============================] - 1s 8ms/step - loss: 0.8035 - accuracy: 0.7047 - val_loss: 0.6089 - val_accuracy: 0.7788\n",
      "Epoch 4/90\n",
      "160/160 [==============================] - 1s 8ms/step - loss: 0.7062 - accuracy: 0.7440 - val_loss: 0.5442 - val_accuracy: 0.7939\n",
      "Epoch 5/90\n",
      "160/160 [==============================] - 1s 8ms/step - loss: 0.6477 - accuracy: 0.7673 - val_loss: 0.5091 - val_accuracy: 0.8104\n",
      "Epoch 6/90\n",
      "160/160 [==============================] - 1s 8ms/step - loss: 0.6061 - accuracy: 0.7795 - val_loss: 0.4803 - val_accuracy: 0.8227\n",
      "Epoch 7/90\n",
      "160/160 [==============================] - 1s 8ms/step - loss: 0.5784 - accuracy: 0.7925 - val_loss: 0.4503 - val_accuracy: 0.8409\n",
      "Epoch 8/90\n",
      "160/160 [==============================] - 1s 8ms/step - loss: 0.5462 - accuracy: 0.8084 - val_loss: 0.4319 - val_accuracy: 0.8490\n",
      "Epoch 9/90\n",
      "160/160 [==============================] - 1s 8ms/step - loss: 0.5194 - accuracy: 0.8176 - val_loss: 0.4264 - val_accuracy: 0.8558\n",
      "Epoch 10/90\n",
      "160/160 [==============================] - 1s 8ms/step - loss: 0.5050 - accuracy: 0.8234 - val_loss: 0.4002 - val_accuracy: 0.8579\n",
      "Epoch 11/90\n",
      "160/160 [==============================] - 1s 8ms/step - loss: 0.4835 - accuracy: 0.8309 - val_loss: 0.3839 - val_accuracy: 0.8660\n",
      "Epoch 12/90\n",
      "160/160 [==============================] - 1s 8ms/step - loss: 0.4700 - accuracy: 0.8345 - val_loss: 0.3728 - val_accuracy: 0.8686\n",
      "Epoch 13/90\n",
      "160/160 [==============================] - 1s 8ms/step - loss: 0.4556 - accuracy: 0.8413 - val_loss: 0.3595 - val_accuracy: 0.8731\n",
      "Epoch 14/90\n",
      "160/160 [==============================] - 1s 9ms/step - loss: 0.4413 - accuracy: 0.8455 - val_loss: 0.3553 - val_accuracy: 0.8771\n",
      "Epoch 15/90\n",
      "160/160 [==============================] - 1s 8ms/step - loss: 0.4320 - accuracy: 0.8488 - val_loss: 0.3421 - val_accuracy: 0.8793\n",
      "Epoch 16/90\n",
      "160/160 [==============================] - 1s 8ms/step - loss: 0.4178 - accuracy: 0.8531 - val_loss: 0.3328 - val_accuracy: 0.8819\n",
      "Epoch 17/90\n",
      "160/160 [==============================] - 1s 8ms/step - loss: 0.4067 - accuracy: 0.8574 - val_loss: 0.3258 - val_accuracy: 0.8852\n",
      "Epoch 18/90\n",
      "160/160 [==============================] - 1s 8ms/step - loss: 0.4015 - accuracy: 0.8601 - val_loss: 0.3275 - val_accuracy: 0.8858\n",
      "Epoch 19/90\n",
      "160/160 [==============================] - 1s 8ms/step - loss: 0.3923 - accuracy: 0.8627 - val_loss: 0.3148 - val_accuracy: 0.8898\n",
      "Epoch 20/90\n",
      "160/160 [==============================] - 1s 8ms/step - loss: 0.3838 - accuracy: 0.8652 - val_loss: 0.3154 - val_accuracy: 0.8893\n",
      "Epoch 21/90\n",
      "160/160 [==============================] - 1s 8ms/step - loss: 0.3803 - accuracy: 0.8672 - val_loss: 0.3040 - val_accuracy: 0.8928\n",
      "Epoch 22/90\n",
      "160/160 [==============================] - 1s 8ms/step - loss: 0.3694 - accuracy: 0.8705 - val_loss: 0.2974 - val_accuracy: 0.8936\n",
      "Epoch 23/90\n",
      "160/160 [==============================] - 1s 8ms/step - loss: 0.3631 - accuracy: 0.8725 - val_loss: 0.3032 - val_accuracy: 0.8953\n",
      "Epoch 24/90\n",
      "160/160 [==============================] - 1s 8ms/step - loss: 0.3536 - accuracy: 0.8771 - val_loss: 0.2929 - val_accuracy: 0.8970\n",
      "Epoch 25/90\n",
      "160/160 [==============================] - 1s 8ms/step - loss: 0.3508 - accuracy: 0.8765 - val_loss: 0.2828 - val_accuracy: 0.9004\n",
      "Epoch 26/90\n",
      "160/160 [==============================] - 1s 8ms/step - loss: 0.3381 - accuracy: 0.8813 - val_loss: 0.2793 - val_accuracy: 0.9024\n",
      "Epoch 27/90\n",
      "160/160 [==============================] - 1s 8ms/step - loss: 0.3366 - accuracy: 0.8819 - val_loss: 0.2855 - val_accuracy: 0.8985\n",
      "Epoch 28/90\n",
      "160/160 [==============================] - 1s 8ms/step - loss: 0.3321 - accuracy: 0.8842 - val_loss: 0.2805 - val_accuracy: 0.9003\n",
      "Epoch 29/90\n",
      "160/160 [==============================] - 1s 8ms/step - loss: 0.3243 - accuracy: 0.8848 - val_loss: 0.2746 - val_accuracy: 0.9024\n",
      "Epoch 30/90\n",
      "160/160 [==============================] - 1s 8ms/step - loss: 0.3207 - accuracy: 0.8887 - val_loss: 0.2668 - val_accuracy: 0.9066\n",
      "Epoch 31/90\n",
      "160/160 [==============================] - 1s 8ms/step - loss: 0.3158 - accuracy: 0.8882 - val_loss: 0.2684 - val_accuracy: 0.9053\n",
      "Epoch 32/90\n",
      "160/160 [==============================] - 1s 8ms/step - loss: 0.3118 - accuracy: 0.8909 - val_loss: 0.2638 - val_accuracy: 0.9084\n",
      "Epoch 33/90\n",
      "160/160 [==============================] - 1s 8ms/step - loss: 0.3022 - accuracy: 0.8924 - val_loss: 0.2647 - val_accuracy: 0.9048\n",
      "Epoch 34/90\n",
      "160/160 [==============================] - 1s 8ms/step - loss: 0.3053 - accuracy: 0.8933 - val_loss: 0.2583 - val_accuracy: 0.9087\n",
      "Epoch 35/90\n",
      "160/160 [==============================] - 1s 8ms/step - loss: 0.2990 - accuracy: 0.8966 - val_loss: 0.2531 - val_accuracy: 0.9109\n",
      "Epoch 36/90\n",
      "160/160 [==============================] - 1s 8ms/step - loss: 0.2901 - accuracy: 0.8979 - val_loss: 0.2507 - val_accuracy: 0.9117\n",
      "Epoch 37/90\n",
      "160/160 [==============================] - 1s 8ms/step - loss: 0.2897 - accuracy: 0.8986 - val_loss: 0.2489 - val_accuracy: 0.9123\n",
      "Epoch 38/90\n",
      "160/160 [==============================] - 1s 8ms/step - loss: 0.2837 - accuracy: 0.9007 - val_loss: 0.2462 - val_accuracy: 0.9131\n",
      "Epoch 39/90\n",
      "160/160 [==============================] - 1s 8ms/step - loss: 0.2824 - accuracy: 0.9004 - val_loss: 0.2500 - val_accuracy: 0.9109\n",
      "Epoch 40/90\n",
      "160/160 [==============================] - 1s 8ms/step - loss: 0.2740 - accuracy: 0.9041 - val_loss: 0.2465 - val_accuracy: 0.9117\n",
      "Epoch 41/90\n",
      "160/160 [==============================] - 1s 8ms/step - loss: 0.2709 - accuracy: 0.9046 - val_loss: 0.2404 - val_accuracy: 0.9157\n",
      "Epoch 42/90\n",
      "160/160 [==============================] - 1s 8ms/step - loss: 0.2691 - accuracy: 0.9056 - val_loss: 0.2434 - val_accuracy: 0.9139\n",
      "Epoch 43/90\n",
      "160/160 [==============================] - 1s 8ms/step - loss: 0.2666 - accuracy: 0.9064 - val_loss: 0.2404 - val_accuracy: 0.9145\n",
      "Epoch 44/90\n",
      "160/160 [==============================] - 1s 8ms/step - loss: 0.2645 - accuracy: 0.9074 - val_loss: 0.2314 - val_accuracy: 0.9166\n",
      "Epoch 45/90\n",
      "160/160 [==============================] - 1s 8ms/step - loss: 0.2587 - accuracy: 0.9093 - val_loss: 0.2336 - val_accuracy: 0.9160\n",
      "Epoch 46/90\n",
      "160/160 [==============================] - 1s 8ms/step - loss: 0.2570 - accuracy: 0.9079 - val_loss: 0.2379 - val_accuracy: 0.9141\n",
      "Epoch 47/90\n",
      "160/160 [==============================] - 1s 8ms/step - loss: 0.2512 - accuracy: 0.9115 - val_loss: 0.2378 - val_accuracy: 0.9162\n",
      "Epoch 48/90\n",
      "160/160 [==============================] - 1s 8ms/step - loss: 0.2487 - accuracy: 0.9136 - val_loss: 0.2361 - val_accuracy: 0.9168\n",
      "Epoch 49/90\n",
      "160/160 [==============================] - 1s 8ms/step - loss: 0.2478 - accuracy: 0.9113 - val_loss: 0.2311 - val_accuracy: 0.9201\n",
      "Epoch 50/90\n",
      "160/160 [==============================] - 1s 8ms/step - loss: 0.2398 - accuracy: 0.9141 - val_loss: 0.2259 - val_accuracy: 0.9200\n",
      "Epoch 51/90\n",
      "160/160 [==============================] - 1s 8ms/step - loss: 0.2375 - accuracy: 0.9170 - val_loss: 0.2298 - val_accuracy: 0.9179\n",
      "Epoch 52/90\n",
      "160/160 [==============================] - 1s 8ms/step - loss: 0.2379 - accuracy: 0.9163 - val_loss: 0.2189 - val_accuracy: 0.9214\n",
      "Epoch 53/90\n",
      "160/160 [==============================] - 1s 8ms/step - loss: 0.2362 - accuracy: 0.9162 - val_loss: 0.2309 - val_accuracy: 0.9189\n",
      "Epoch 54/90\n",
      "160/160 [==============================] - 1s 8ms/step - loss: 0.2301 - accuracy: 0.9197 - val_loss: 0.2210 - val_accuracy: 0.9212\n",
      "Epoch 55/90\n",
      "160/160 [==============================] - 1s 8ms/step - loss: 0.2325 - accuracy: 0.9169 - val_loss: 0.2207 - val_accuracy: 0.9227\n",
      "Epoch 56/90\n",
      "160/160 [==============================] - 1s 8ms/step - loss: 0.2257 - accuracy: 0.9207 - val_loss: 0.2242 - val_accuracy: 0.9187\n",
      "Epoch 57/90\n",
      "160/160 [==============================] - 1s 8ms/step - loss: 0.2248 - accuracy: 0.9209 - val_loss: 0.2211 - val_accuracy: 0.9213\n",
      "Epoch 58/90\n",
      "160/160 [==============================] - 1s 8ms/step - loss: 0.2177 - accuracy: 0.9230 - val_loss: 0.2219 - val_accuracy: 0.9213\n",
      "Epoch 59/90\n",
      "160/160 [==============================] - 1s 8ms/step - loss: 0.2197 - accuracy: 0.9210 - val_loss: 0.2197 - val_accuracy: 0.9209\n",
      "Epoch 60/90\n",
      "160/160 [==============================] - 1s 9ms/step - loss: 0.2143 - accuracy: 0.9252 - val_loss: 0.2180 - val_accuracy: 0.9223\n",
      "Epoch 61/90\n",
      "160/160 [==============================] - 1s 8ms/step - loss: 0.2118 - accuracy: 0.9235 - val_loss: 0.2144 - val_accuracy: 0.9225\n",
      "Epoch 62/90\n",
      "160/160 [==============================] - 1s 8ms/step - loss: 0.2105 - accuracy: 0.9255 - val_loss: 0.2116 - val_accuracy: 0.9252\n",
      "Epoch 63/90\n",
      "160/160 [==============================] - 1s 8ms/step - loss: 0.2111 - accuracy: 0.9254 - val_loss: 0.2072 - val_accuracy: 0.9257\n",
      "Epoch 64/90\n",
      "160/160 [==============================] - 1s 8ms/step - loss: 0.2094 - accuracy: 0.9242 - val_loss: 0.2141 - val_accuracy: 0.9252\n",
      "Epoch 65/90\n",
      "160/160 [==============================] - 1s 8ms/step - loss: 0.2052 - accuracy: 0.9271 - val_loss: 0.2117 - val_accuracy: 0.9256\n",
      "Epoch 66/90\n",
      "160/160 [==============================] - 1s 8ms/step - loss: 0.2046 - accuracy: 0.9274 - val_loss: 0.2090 - val_accuracy: 0.9266\n",
      "Epoch 67/90\n",
      "160/160 [==============================] - 1s 8ms/step - loss: 0.2000 - accuracy: 0.9308 - val_loss: 0.2077 - val_accuracy: 0.9262\n",
      "Epoch 68/90\n",
      "160/160 [==============================] - 1s 8ms/step - loss: 0.1990 - accuracy: 0.9291 - val_loss: 0.2103 - val_accuracy: 0.9258\n",
      "Epoch 69/90\n",
      "160/160 [==============================] - 1s 8ms/step - loss: 0.2020 - accuracy: 0.9283 - val_loss: 0.2019 - val_accuracy: 0.9268\n",
      "Epoch 70/90\n",
      "160/160 [==============================] - 1s 8ms/step - loss: 0.1942 - accuracy: 0.9315 - val_loss: 0.2101 - val_accuracy: 0.9245\n",
      "Epoch 71/90\n",
      "160/160 [==============================] - 1s 8ms/step - loss: 0.1893 - accuracy: 0.9330 - val_loss: 0.2035 - val_accuracy: 0.9262\n",
      "Epoch 72/90\n",
      "160/160 [==============================] - 1s 8ms/step - loss: 0.1937 - accuracy: 0.9316 - val_loss: 0.2085 - val_accuracy: 0.9247\n",
      "Epoch 73/90\n",
      "160/160 [==============================] - 1s 8ms/step - loss: 0.1885 - accuracy: 0.9328 - val_loss: 0.2121 - val_accuracy: 0.9236\n",
      "Epoch 74/90\n",
      "160/160 [==============================] - 1s 8ms/step - loss: 0.1871 - accuracy: 0.9327 - val_loss: 0.2057 - val_accuracy: 0.9253\n",
      "Epoch 75/90\n",
      "160/160 [==============================] - 1s 8ms/step - loss: 0.1873 - accuracy: 0.9331 - val_loss: 0.2040 - val_accuracy: 0.9273\n",
      "Epoch 76/90\n",
      "160/160 [==============================] - 1s 8ms/step - loss: 0.1823 - accuracy: 0.9354 - val_loss: 0.2053 - val_accuracy: 0.9279\n",
      "Epoch 77/90\n",
      "160/160 [==============================] - 1s 8ms/step - loss: 0.1794 - accuracy: 0.9351 - val_loss: 0.2081 - val_accuracy: 0.9258\n",
      "Epoch 78/90\n",
      "160/160 [==============================] - 1s 8ms/step - loss: 0.1815 - accuracy: 0.9356 - val_loss: 0.2084 - val_accuracy: 0.9266\n",
      "Epoch 79/90\n",
      "160/160 [==============================] - 1s 8ms/step - loss: 0.1767 - accuracy: 0.9366 - val_loss: 0.2036 - val_accuracy: 0.9276\n",
      "Epoch 80/90\n",
      "160/160 [==============================] - 1s 8ms/step - loss: 0.1762 - accuracy: 0.9369 - val_loss: 0.2015 - val_accuracy: 0.9280\n",
      "Epoch 81/90\n",
      "160/160 [==============================] - 1s 8ms/step - loss: 0.1766 - accuracy: 0.9366 - val_loss: 0.2023 - val_accuracy: 0.9269\n",
      "Epoch 82/90\n",
      "160/160 [==============================] - 1s 8ms/step - loss: 0.1741 - accuracy: 0.9375 - val_loss: 0.2074 - val_accuracy: 0.9272\n",
      "Epoch 83/90\n",
      "160/160 [==============================] - 1s 8ms/step - loss: 0.1686 - accuracy: 0.9386 - val_loss: 0.1971 - val_accuracy: 0.9303\n",
      "Epoch 84/90\n",
      "160/160 [==============================] - 1s 8ms/step - loss: 0.1732 - accuracy: 0.9386 - val_loss: 0.2027 - val_accuracy: 0.9285\n",
      "Epoch 85/90\n",
      "160/160 [==============================] - 1s 8ms/step - loss: 0.1693 - accuracy: 0.9397 - val_loss: 0.2008 - val_accuracy: 0.9290\n",
      "Epoch 86/90\n",
      "160/160 [==============================] - 1s 8ms/step - loss: 0.1694 - accuracy: 0.9389 - val_loss: 0.1994 - val_accuracy: 0.9291\n",
      "Epoch 87/90\n",
      "160/160 [==============================] - 1s 8ms/step - loss: 0.1668 - accuracy: 0.9413 - val_loss: 0.2014 - val_accuracy: 0.9296\n",
      "Epoch 88/90\n",
      "160/160 [==============================] - 1s 8ms/step - loss: 0.1622 - accuracy: 0.9419 - val_loss: 0.1968 - val_accuracy: 0.9308\n",
      "Epoch 89/90\n",
      "160/160 [==============================] - 1s 8ms/step - loss: 0.1641 - accuracy: 0.9412 - val_loss: 0.1971 - val_accuracy: 0.9312\n",
      "Epoch 90/90\n",
      "160/160 [==============================] - 1s 8ms/step - loss: 0.1635 - accuracy: 0.9419 - val_loss: 0.1986 - val_accuracy: 0.9306\n"
     ]
    }
   ],
   "source": [
    "history_4 = cnn_model_4.fit(X_train, y_train,\n",
    "                            validation_data=(X_validate, y_validate),\n",
    "                            epochs=90,\n",
    "                            batch_size=300)"
   ]
  },
  {
   "cell_type": "code",
   "execution_count": 18,
   "outputs": [],
   "source": [
    "from tensorflow.keras.models import load_model\n",
    "cnn_model_4=load_model('saved_model/cnn_Model4.h5')"
   ],
   "metadata": {
    "collapsed": false,
    "pycharm": {
     "name": "#%%\n"
    }
   }
  },
  {
   "cell_type": "code",
   "execution_count": 19,
   "metadata": {
    "pycharm": {
     "name": "#%%\n"
    }
   },
   "outputs": [
    {
     "name": "stdout",
     "output_type": "stream",
     "text": [
      "Test loss: 0.13688963651657104\n",
      "Test accuracy: 95.35999894142151\n"
     ]
    }
   ],
   "source": [
    "score = cnn_model_4.evaluate(X_test, y_test, verbose=0)\n",
    "print('Test loss:', score[0])\n",
    "print('Test accuracy:', score[1]*100)"
   ]
  },
  {
   "cell_type": "code",
   "execution_count": 44,
   "metadata": {
    "collapsed": false,
    "jupyter": {
     "outputs_hidden": false
    },
    "pycharm": {
     "name": "#%%\n"
    }
   },
   "outputs": [],
   "source": [
    "from tensorflow.keras.models import load_model\n",
    "cnn_model_4.save('saved_model/cnn_Model4.h5')"
   ]
  },
  {
   "cell_type": "code",
   "execution_count": 45,
   "metadata": {
    "pycharm": {
     "name": "#%%\n"
    }
   },
   "outputs": [
    {
     "data": {
      "image/png": "[encoded data removed]",
      "text/plain": [
       "<Figure size 1296x576 with 2 Axes>"
      ]
     },
     "metadata": {
      "needs_background": "light"
     },
     "output_type": "display_data"
    }
   ],
   "source": [
    "plt.figure(figsize = (18,8))\n",
    "plt.subplot(121)\n",
    "plt.plot(history_4.history['loss'], color='darkcyan', label=\"Training loss\")\n",
    "plt.plot(history_4.history['val_loss'], color='maroon', label=\"validation loss\",)\n",
    "plt.xlabel('Epochs')\n",
    "plt.ylabel('loss')\n",
    "plt.legend(loc='best', shadow=True)\n",
    "plt.subplot(122)\n",
    "plt.plot(history_4.history['accuracy'], color='darkcyan', label=\"Training accuracy\")\n",
    "plt.plot(history_4.history['val_accuracy'], color='maroon',label=\"Validation accuracy\")\n",
    "plt.xlabel('Epochs')\n",
    "plt.ylabel('accuracy')\n",
    "plt.legend(loc='best', shadow=True)\n",
    "plt.show()"
   ]
  },
  {
   "cell_type": "markdown",
   "metadata": {
    "pycharm": {
     "name": "#%% md\n"
    }
   },
   "source": [
    "#### 五个卷积层，三个池层，三个全连接层，分别有256,512,1024个神经元\n",
    "#### 带填充"
   ]
  },
  {
   "cell_type": "code",
   "execution_count": 46,
   "metadata": {
    "pycharm": {
     "name": "#%%\n"
    }
   },
   "outputs": [],
   "source": [
    "from tensorflow.python.keras.layers import Dense\n",
    "from tensorflow.python.keras.layers import Conv2D\n",
    "from tensorflow.python.keras.layers import MaxPooling2D\n",
    "from tensorflow.python.keras.layers import Dropout\n",
    "from tensorflow.python.keras.layers import Flatten\n",
    "cnn_model_5 =tf.keras.models.Sequential()\n",
    "\n",
    "cnn_model_5.add(Conv2D(32, 3, padding='same', activation='relu', input_shape=input_shape))\n",
    "cnn_model_5.add(Dropout(0.5))\n",
    "cnn_model_5.add(Conv2D(64, 3, padding='same', activation='relu'))\n",
    "cnn_model_5.add(MaxPooling2D(2))\n",
    "\n",
    "cnn_model_5.add(Conv2D(128, 3, padding='same', activation ='relu'))\n",
    "cnn_model_5.add(Dropout(0.5))\n",
    "cnn_model_5.add(Conv2D(256, 3, padding='same', activation ='relu'))\n",
    "cnn_model_5.add(MaxPooling2D(2, 2))\n",
    "\n",
    "cnn_model_5.add(Conv2D(512, 3, padding='same', activation ='relu'))\n",
    "cnn_model_5.add(Dropout(0.5))\n",
    "cnn_model_5.add(MaxPooling2D(2, 2))\n",
    "\n",
    "cnn_model_5.add(Dropout(0.3))\n",
    "\n",
    "cnn_model_5.add(Flatten())\n",
    "\n",
    "cnn_model_5.add(Dense(256, activation='relu'))\n",
    "cnn_model_5.add(Dropout(0.5))\n",
    "cnn_model_5.add(Dense(512, activation='relu'))\n",
    "cnn_model_5.add(Dropout(0.5))\n",
    "cnn_model_5.add(Dense(1024, activation='relu'))\n",
    "cnn_model_5.add(Dropout(0.5))\n",
    "cnn_model_5.add(Dense(10, activation='softmax'))"
   ]
  },
  {
   "cell_type": "code",
   "execution_count": 47,
   "metadata": {
    "pycharm": {
     "name": "#%%\n"
    }
   },
   "outputs": [
    {
     "name": "stdout",
     "output_type": "stream",
     "text": [
      "Model: \"sequential_6\"\n",
      "_________________________________________________________________\n",
      "Layer (type)                 Output Shape              Param #   \n",
      "=================================================================\n",
      "conv2d_10 (Conv2D)           (None, 28, 28, 32)        320       \n",
      "_________________________________________________________________\n",
      "dropout_15 (Dropout)         (None, 28, 28, 32)        0         \n",
      "_________________________________________________________________\n",
      "conv2d_11 (Conv2D)           (None, 28, 28, 64)        18496     \n",
      "_________________________________________________________________\n",
      "max_pooling2d_6 (MaxPooling2 (None, 14, 14, 64)        0         \n",
      "_________________________________________________________________\n",
      "conv2d_12 (Conv2D)           (None, 14, 14, 128)       73856     \n",
      "_________________________________________________________________\n",
      "dropout_16 (Dropout)         (None, 14, 14, 128)       0         \n",
      "_________________________________________________________________\n",
      "conv2d_13 (Conv2D)           (None, 14, 14, 256)       295168    \n",
      "_________________________________________________________________\n",
      "max_pooling2d_7 (MaxPooling2 (None, 7, 7, 256)         0         \n",
      "_________________________________________________________________\n",
      "conv2d_14 (Conv2D)           (None, 7, 7, 512)         1180160   \n",
      "_________________________________________________________________\n",
      "dropout_17 (Dropout)         (None, 7, 7, 512)         0         \n",
      "_________________________________________________________________\n",
      "max_pooling2d_8 (MaxPooling2 (None, 3, 3, 512)         0         \n",
      "_________________________________________________________________\n",
      "dropout_18 (Dropout)         (None, 3, 3, 512)         0         \n",
      "_________________________________________________________________\n",
      "flatten_4 (Flatten)          (None, 4608)              0         \n",
      "_________________________________________________________________\n",
      "dense_15 (Dense)             (None, 256)               1179904   \n",
      "_________________________________________________________________\n",
      "dropout_19 (Dropout)         (None, 256)               0         \n",
      "_________________________________________________________________\n",
      "dense_16 (Dense)             (None, 512)               131584    \n",
      "_________________________________________________________________\n",
      "dropout_20 (Dropout)         (None, 512)               0         \n",
      "_________________________________________________________________\n",
      "dense_17 (Dense)             (None, 1024)              525312    \n",
      "_________________________________________________________________\n",
      "dropout_21 (Dropout)         (None, 1024)              0         \n",
      "_________________________________________________________________\n",
      "dense_18 (Dense)             (None, 10)                10250     \n",
      "=================================================================\n",
      "Total params: 3,415,050\n",
      "Trainable params: 3,415,050\n",
      "Non-trainable params: 0\n",
      "_________________________________________________________________\n"
     ]
    }
   ],
   "source": [
    "cnn_model_5.summary()"
   ]
  },
  {
   "cell_type": "code",
   "execution_count": 48,
   "metadata": {
    "pycharm": {
     "name": "#%%\n"
    }
   },
   "outputs": [],
   "source": [
    "cnn_model_5.compile(optimizer=Adam(lr = 0.0001),\n",
    "              loss = 'categorical_crossentropy',\n",
    "              metrics=['accuracy'])"
   ]
  },
  {
   "cell_type": "code",
   "execution_count": 49,
   "metadata": {
    "pycharm": {
     "name": "#%%\n"
    }
   },
   "outputs": [
    {
     "name": "stdout",
     "output_type": "stream",
     "text": [
      "Epoch 1/90\n",
      "160/160 [==============================] - 3s 12ms/step - loss: 1.6773 - accuracy: 0.3375 - val_loss: 1.4576 - val_accuracy: 0.5882\n",
      "Epoch 2/90\n",
      "160/160 [==============================] - 2s 11ms/step - loss: 0.9763 - accuracy: 0.6224 - val_loss: 0.9851 - val_accuracy: 0.7214\n",
      "Epoch 3/90\n",
      "160/160 [==============================] - 2s 11ms/step - loss: 0.7504 - accuracy: 0.7151 - val_loss: 0.8527 - val_accuracy: 0.7575\n",
      "Epoch 4/90\n",
      "160/160 [==============================] - 2s 11ms/step - loss: 0.6673 - accuracy: 0.7456 - val_loss: 0.7448 - val_accuracy: 0.7846\n",
      "Epoch 5/90\n",
      "160/160 [==============================] - 2s 11ms/step - loss: 0.6123 - accuracy: 0.7673 - val_loss: 0.6656 - val_accuracy: 0.7989\n",
      "Epoch 6/90\n",
      "160/160 [==============================] - 2s 11ms/step - loss: 0.5676 - accuracy: 0.7862 - val_loss: 0.5711 - val_accuracy: 0.8211\n",
      "Epoch 7/90\n",
      "160/160 [==============================] - 2s 11ms/step - loss: 0.5333 - accuracy: 0.8006 - val_loss: 0.5632 - val_accuracy: 0.8332\n",
      "Epoch 8/90\n",
      "160/160 [==============================] - 2s 11ms/step - loss: 0.5089 - accuracy: 0.8090 - val_loss: 0.4917 - val_accuracy: 0.8435\n",
      "Epoch 9/90\n",
      "160/160 [==============================] - 2s 11ms/step - loss: 0.4819 - accuracy: 0.8248 - val_loss: 0.4965 - val_accuracy: 0.8519\n",
      "Epoch 10/90\n",
      "160/160 [==============================] - 2s 11ms/step - loss: 0.4616 - accuracy: 0.8316 - val_loss: 0.4436 - val_accuracy: 0.8566\n",
      "Epoch 11/90\n",
      "160/160 [==============================] - 2s 11ms/step - loss: 0.4379 - accuracy: 0.8394 - val_loss: 0.4269 - val_accuracy: 0.8652\n",
      "Epoch 12/90\n",
      "160/160 [==============================] - 2s 11ms/step - loss: 0.4241 - accuracy: 0.8451 - val_loss: 0.4090 - val_accuracy: 0.8716\n",
      "Epoch 13/90\n",
      "160/160 [==============================] - 2s 11ms/step - loss: 0.4106 - accuracy: 0.8499 - val_loss: 0.4107 - val_accuracy: 0.8720\n",
      "Epoch 14/90\n",
      "160/160 [==============================] - 2s 11ms/step - loss: 0.3996 - accuracy: 0.8553 - val_loss: 0.3847 - val_accuracy: 0.8767\n",
      "Epoch 15/90\n",
      "160/160 [==============================] - 2s 11ms/step - loss: 0.3863 - accuracy: 0.8601 - val_loss: 0.3790 - val_accuracy: 0.8803\n",
      "Epoch 16/90\n",
      "160/160 [==============================] - 2s 11ms/step - loss: 0.3754 - accuracy: 0.8647 - val_loss: 0.3695 - val_accuracy: 0.8798\n",
      "Epoch 17/90\n",
      "160/160 [==============================] - 2s 11ms/step - loss: 0.3682 - accuracy: 0.8674 - val_loss: 0.3633 - val_accuracy: 0.8777\n",
      "Epoch 18/90\n",
      "160/160 [==============================] - 2s 11ms/step - loss: 0.3567 - accuracy: 0.8724 - val_loss: 0.3506 - val_accuracy: 0.8823\n",
      "Epoch 19/90\n",
      "160/160 [==============================] - 2s 11ms/step - loss: 0.3485 - accuracy: 0.8733 - val_loss: 0.3377 - val_accuracy: 0.8827\n",
      "Epoch 20/90\n",
      "160/160 [==============================] - 2s 11ms/step - loss: 0.3423 - accuracy: 0.8775 - val_loss: 0.3284 - val_accuracy: 0.8938\n",
      "Epoch 21/90\n",
      "160/160 [==============================] - 2s 11ms/step - loss: 0.3306 - accuracy: 0.8814 - val_loss: 0.3276 - val_accuracy: 0.8955\n",
      "Epoch 22/90\n",
      "160/160 [==============================] - 2s 11ms/step - loss: 0.3271 - accuracy: 0.8834 - val_loss: 0.3254 - val_accuracy: 0.8863\n",
      "Epoch 23/90\n",
      "160/160 [==============================] - 2s 11ms/step - loss: 0.3214 - accuracy: 0.8852 - val_loss: 0.2963 - val_accuracy: 0.8976\n",
      "Epoch 24/90\n",
      "160/160 [==============================] - 2s 11ms/step - loss: 0.3127 - accuracy: 0.8880 - val_loss: 0.2975 - val_accuracy: 0.8978\n",
      "Epoch 25/90\n",
      "160/160 [==============================] - 2s 12ms/step - loss: 0.3053 - accuracy: 0.8898 - val_loss: 0.2965 - val_accuracy: 0.9011\n",
      "Epoch 26/90\n",
      "160/160 [==============================] - 2s 11ms/step - loss: 0.2996 - accuracy: 0.8930 - val_loss: 0.2922 - val_accuracy: 0.8976\n",
      "Epoch 27/90\n",
      "160/160 [==============================] - 2s 11ms/step - loss: 0.2943 - accuracy: 0.8936 - val_loss: 0.2983 - val_accuracy: 0.8977\n",
      "Epoch 28/90\n",
      "160/160 [==============================] - 2s 11ms/step - loss: 0.2891 - accuracy: 0.8964 - val_loss: 0.2816 - val_accuracy: 0.9038\n",
      "Epoch 29/90\n",
      "160/160 [==============================] - 2s 11ms/step - loss: 0.2845 - accuracy: 0.8966 - val_loss: 0.2740 - val_accuracy: 0.9021\n",
      "Epoch 30/90\n",
      "160/160 [==============================] - 2s 11ms/step - loss: 0.2816 - accuracy: 0.8994 - val_loss: 0.2723 - val_accuracy: 0.9046\n",
      "Epoch 31/90\n",
      "160/160 [==============================] - 2s 11ms/step - loss: 0.2781 - accuracy: 0.8996 - val_loss: 0.2633 - val_accuracy: 0.9093\n",
      "Epoch 32/90\n",
      "160/160 [==============================] - 2s 11ms/step - loss: 0.2714 - accuracy: 0.9021 - val_loss: 0.2540 - val_accuracy: 0.9121\n",
      "Epoch 33/90\n",
      "160/160 [==============================] - 2s 11ms/step - loss: 0.2658 - accuracy: 0.9045 - val_loss: 0.2550 - val_accuracy: 0.9122\n",
      "Epoch 34/90\n",
      "160/160 [==============================] - 2s 11ms/step - loss: 0.2646 - accuracy: 0.9038 - val_loss: 0.2528 - val_accuracy: 0.9130\n",
      "Epoch 35/90\n",
      "160/160 [==============================] - 2s 11ms/step - loss: 0.2566 - accuracy: 0.9082 - val_loss: 0.2492 - val_accuracy: 0.9116\n",
      "Epoch 36/90\n",
      "160/160 [==============================] - 2s 11ms/step - loss: 0.2523 - accuracy: 0.9101 - val_loss: 0.2521 - val_accuracy: 0.9112\n",
      "Epoch 37/90\n",
      "160/160 [==============================] - 2s 11ms/step - loss: 0.2513 - accuracy: 0.9090 - val_loss: 0.2557 - val_accuracy: 0.9101\n",
      "Epoch 38/90\n",
      "160/160 [==============================] - 2s 11ms/step - loss: 0.2471 - accuracy: 0.9104 - val_loss: 0.2444 - val_accuracy: 0.9138\n",
      "Epoch 39/90\n",
      "160/160 [==============================] - 2s 11ms/step - loss: 0.2439 - accuracy: 0.9120 - val_loss: 0.2481 - val_accuracy: 0.9114\n",
      "Epoch 40/90\n",
      "160/160 [==============================] - 2s 11ms/step - loss: 0.2411 - accuracy: 0.9125 - val_loss: 0.2297 - val_accuracy: 0.9168\n",
      "Epoch 41/90\n",
      "160/160 [==============================] - 2s 11ms/step - loss: 0.2383 - accuracy: 0.9144 - val_loss: 0.2346 - val_accuracy: 0.9163\n",
      "Epoch 42/90\n",
      "160/160 [==============================] - 2s 11ms/step - loss: 0.2316 - accuracy: 0.9168 - val_loss: 0.2461 - val_accuracy: 0.9119\n",
      "Epoch 43/90\n",
      "160/160 [==============================] - 2s 11ms/step - loss: 0.2319 - accuracy: 0.9163 - val_loss: 0.2208 - val_accuracy: 0.9208\n",
      "Epoch 44/90\n",
      "160/160 [==============================] - 2s 11ms/step - loss: 0.2276 - accuracy: 0.9190 - val_loss: 0.2312 - val_accuracy: 0.9153\n",
      "Epoch 45/90\n",
      "160/160 [==============================] - 2s 11ms/step - loss: 0.2224 - accuracy: 0.9199 - val_loss: 0.2320 - val_accuracy: 0.9154\n",
      "Epoch 46/90\n",
      "160/160 [==============================] - 2s 11ms/step - loss: 0.2211 - accuracy: 0.9196 - val_loss: 0.2313 - val_accuracy: 0.9158\n",
      "Epoch 47/90\n",
      "160/160 [==============================] - 2s 11ms/step - loss: 0.2182 - accuracy: 0.9217 - val_loss: 0.2179 - val_accuracy: 0.9218\n",
      "Epoch 48/90\n",
      "160/160 [==============================] - 2s 11ms/step - loss: 0.2162 - accuracy: 0.9217 - val_loss: 0.2166 - val_accuracy: 0.9197\n",
      "Epoch 49/90\n",
      "160/160 [==============================] - 2s 11ms/step - loss: 0.2122 - accuracy: 0.9224 - val_loss: 0.2193 - val_accuracy: 0.9196\n",
      "Epoch 50/90\n",
      "160/160 [==============================] - 2s 11ms/step - loss: 0.2134 - accuracy: 0.9220 - val_loss: 0.2259 - val_accuracy: 0.9185\n",
      "Epoch 51/90\n",
      "160/160 [==============================] - 2s 11ms/step - loss: 0.2073 - accuracy: 0.9240 - val_loss: 0.2097 - val_accuracy: 0.9234\n",
      "Epoch 52/90\n",
      "160/160 [==============================] - 2s 11ms/step - loss: 0.2080 - accuracy: 0.9231 - val_loss: 0.2084 - val_accuracy: 0.9232\n",
      "Epoch 53/90\n",
      "160/160 [==============================] - 2s 11ms/step - loss: 0.2038 - accuracy: 0.9260 - val_loss: 0.2143 - val_accuracy: 0.9209\n",
      "Epoch 54/90\n",
      "160/160 [==============================] - 2s 11ms/step - loss: 0.2020 - accuracy: 0.9274 - val_loss: 0.2189 - val_accuracy: 0.9199\n",
      "Epoch 55/90\n",
      "160/160 [==============================] - 2s 11ms/step - loss: 0.1971 - accuracy: 0.9286 - val_loss: 0.2097 - val_accuracy: 0.9225\n",
      "Epoch 56/90\n",
      "160/160 [==============================] - 2s 11ms/step - loss: 0.1967 - accuracy: 0.9287 - val_loss: 0.2036 - val_accuracy: 0.9248\n",
      "Epoch 57/90\n",
      "160/160 [==============================] - 2s 11ms/step - loss: 0.1940 - accuracy: 0.9291 - val_loss: 0.2107 - val_accuracy: 0.9222\n",
      "Epoch 58/90\n",
      "160/160 [==============================] - 2s 11ms/step - loss: 0.1909 - accuracy: 0.9309 - val_loss: 0.2003 - val_accuracy: 0.9255\n",
      "Epoch 59/90\n",
      "160/160 [==============================] - 2s 11ms/step - loss: 0.1885 - accuracy: 0.9316 - val_loss: 0.1920 - val_accuracy: 0.9311\n",
      "Epoch 60/90\n",
      "160/160 [==============================] - 2s 11ms/step - loss: 0.1888 - accuracy: 0.9312 - val_loss: 0.1999 - val_accuracy: 0.9254\n",
      "Epoch 61/90\n",
      "160/160 [==============================] - 2s 11ms/step - loss: 0.1850 - accuracy: 0.9338 - val_loss: 0.1984 - val_accuracy: 0.9263\n",
      "Epoch 62/90\n",
      "160/160 [==============================] - 2s 11ms/step - loss: 0.1834 - accuracy: 0.9320 - val_loss: 0.2007 - val_accuracy: 0.9260\n",
      "Epoch 63/90\n",
      "160/160 [==============================] - 2s 11ms/step - loss: 0.1799 - accuracy: 0.9337 - val_loss: 0.2025 - val_accuracy: 0.9264\n",
      "Epoch 64/90\n",
      "160/160 [==============================] - 2s 11ms/step - loss: 0.1795 - accuracy: 0.9342 - val_loss: 0.1981 - val_accuracy: 0.9262\n",
      "Epoch 65/90\n",
      "160/160 [==============================] - 2s 11ms/step - loss: 0.1761 - accuracy: 0.9350 - val_loss: 0.1918 - val_accuracy: 0.9302\n",
      "Epoch 66/90\n",
      "160/160 [==============================] - 2s 11ms/step - loss: 0.1753 - accuracy: 0.9358 - val_loss: 0.1884 - val_accuracy: 0.9295\n",
      "Epoch 67/90\n",
      "160/160 [==============================] - 2s 11ms/step - loss: 0.1745 - accuracy: 0.9355 - val_loss: 0.1896 - val_accuracy: 0.9293\n",
      "Epoch 68/90\n",
      "160/160 [==============================] - 2s 11ms/step - loss: 0.1703 - accuracy: 0.9377 - val_loss: 0.1876 - val_accuracy: 0.9333\n",
      "Epoch 69/90\n",
      "160/160 [==============================] - 2s 11ms/step - loss: 0.1681 - accuracy: 0.9379 - val_loss: 0.1981 - val_accuracy: 0.9265\n",
      "Epoch 70/90\n",
      "160/160 [==============================] - 2s 11ms/step - loss: 0.1693 - accuracy: 0.9375 - val_loss: 0.1942 - val_accuracy: 0.9285\n",
      "Epoch 71/90\n",
      "160/160 [==============================] - 2s 11ms/step - loss: 0.1637 - accuracy: 0.9397 - val_loss: 0.1927 - val_accuracy: 0.9285\n",
      "Epoch 72/90\n",
      "160/160 [==============================] - 2s 11ms/step - loss: 0.1629 - accuracy: 0.9397 - val_loss: 0.1920 - val_accuracy: 0.9279\n",
      "Epoch 73/90\n",
      "160/160 [==============================] - 2s 11ms/step - loss: 0.1626 - accuracy: 0.9402 - val_loss: 0.1926 - val_accuracy: 0.9316\n",
      "Epoch 74/90\n",
      "160/160 [==============================] - 2s 11ms/step - loss: 0.1585 - accuracy: 0.9420 - val_loss: 0.1935 - val_accuracy: 0.9288\n",
      "Epoch 75/90\n",
      "160/160 [==============================] - 2s 11ms/step - loss: 0.1561 - accuracy: 0.9429 - val_loss: 0.1883 - val_accuracy: 0.9312\n",
      "Epoch 76/90\n",
      "160/160 [==============================] - 2s 11ms/step - loss: 0.1552 - accuracy: 0.9422 - val_loss: 0.1897 - val_accuracy: 0.9311\n",
      "Epoch 77/90\n",
      "160/160 [==============================] - 2s 11ms/step - loss: 0.1564 - accuracy: 0.9419 - val_loss: 0.1916 - val_accuracy: 0.9305\n",
      "Epoch 78/90\n",
      "160/160 [==============================] - 2s 11ms/step - loss: 0.1527 - accuracy: 0.9432 - val_loss: 0.1863 - val_accuracy: 0.9327\n",
      "Epoch 79/90\n",
      "160/160 [==============================] - 2s 11ms/step - loss: 0.1506 - accuracy: 0.9455 - val_loss: 0.1828 - val_accuracy: 0.9331\n",
      "Epoch 80/90\n",
      "160/160 [==============================] - 2s 11ms/step - loss: 0.1514 - accuracy: 0.9451 - val_loss: 0.1866 - val_accuracy: 0.9330\n",
      "Epoch 81/90\n",
      "160/160 [==============================] - 2s 11ms/step - loss: 0.1475 - accuracy: 0.9454 - val_loss: 0.1834 - val_accuracy: 0.9327\n",
      "Epoch 82/90\n",
      "160/160 [==============================] - 2s 11ms/step - loss: 0.1442 - accuracy: 0.9473 - val_loss: 0.1907 - val_accuracy: 0.9306\n",
      "Epoch 83/90\n",
      "160/160 [==============================] - 2s 11ms/step - loss: 0.1456 - accuracy: 0.9465 - val_loss: 0.1842 - val_accuracy: 0.9318\n",
      "Epoch 84/90\n",
      "160/160 [==============================] - 2s 11ms/step - loss: 0.1431 - accuracy: 0.9475 - val_loss: 0.1916 - val_accuracy: 0.9298\n",
      "Epoch 85/90\n",
      "160/160 [==============================] - 2s 11ms/step - loss: 0.1424 - accuracy: 0.9470 - val_loss: 0.1865 - val_accuracy: 0.9323\n",
      "Epoch 86/90\n",
      "160/160 [==============================] - 2s 11ms/step - loss: 0.1412 - accuracy: 0.9470 - val_loss: 0.1924 - val_accuracy: 0.9293\n",
      "Epoch 87/90\n",
      "160/160 [==============================] - 2s 11ms/step - loss: 0.1400 - accuracy: 0.9480 - val_loss: 0.1902 - val_accuracy: 0.9315\n",
      "Epoch 88/90\n",
      "160/160 [==============================] - 2s 11ms/step - loss: 0.1374 - accuracy: 0.9497 - val_loss: 0.1918 - val_accuracy: 0.9318\n",
      "Epoch 89/90\n",
      "160/160 [==============================] - 2s 11ms/step - loss: 0.1368 - accuracy: 0.9491 - val_loss: 0.1980 - val_accuracy: 0.9304\n",
      "Epoch 90/90\n",
      "160/160 [==============================] - 2s 11ms/step - loss: 0.1371 - accuracy: 0.9494 - val_loss: 0.1897 - val_accuracy: 0.9321\n"
     ]
    }
   ],
   "source": [
    "history_5 = cnn_model_5.fit(X_train, y_train,\n",
    "                    validation_data=(X_validate, y_validate),\n",
    "                    epochs=90, \n",
    "                    batch_size=300)"
   ]
  },
  {
   "cell_type": "code",
   "execution_count": 20,
   "outputs": [],
   "source": [
    "from tensorflow.keras.models import load_model\n",
    "cnn_model_5=load_model('saved_model/cnn_Model5.h5')"
   ],
   "metadata": {
    "collapsed": false,
    "pycharm": {
     "name": "#%%\n"
    }
   }
  },
  {
   "cell_type": "code",
   "execution_count": 21,
   "metadata": {
    "pycharm": {
     "name": "#%%\n"
    }
   },
   "outputs": [
    {
     "name": "stdout",
     "output_type": "stream",
     "text": [
      "Test loss: 0.12944188714027405\n",
      "Test accuracy: 95.50999999046326\n"
     ]
    }
   ],
   "source": [
    "score = cnn_model_5.evaluate(X_test, y_test, verbose=0)\n",
    "print('Test loss:', score[0])\n",
    "print('Test accuracy:', score[1]*100)"
   ]
  },
  {
   "cell_type": "code",
   "execution_count": 51,
   "metadata": {
    "collapsed": false,
    "jupyter": {
     "outputs_hidden": false
    },
    "pycharm": {
     "name": "#%%\n"
    }
   },
   "outputs": [],
   "source": [
    "cnn_model_5.save('saved_model/cnn_Model5.h5')"
   ]
  },
  {
   "cell_type": "code",
   "execution_count": 52,
   "metadata": {
    "pycharm": {
     "name": "#%%\n"
    }
   },
   "outputs": [
    {
     "data": {
      "image/png": "[encoded data removed]",
      "text/plain": [
       "<Figure size 1296x576 with 2 Axes>"
      ]
     },
     "metadata": {
      "needs_background": "light"
     },
     "output_type": "display_data"
    }
   ],
   "source": [
    "plt.figure(figsize = (18,8))\n",
    "plt.subplot(121)\n",
    "plt.plot(history_5.history['loss'], color='darkcyan', label=\"Training loss\")\n",
    "plt.plot(history_5.history['val_loss'], color='maroon', label=\"validation loss\",)\n",
    "plt.xlabel('Epochs')\n",
    "plt.ylabel('loss')\n",
    "plt.legend(loc='best', shadow=True)\n",
    "plt.subplot(122)\n",
    "plt.plot(history_5.history['accuracy'], color='darkcyan', label=\"Training accuracy\")\n",
    "plt.plot(history_5.history['val_accuracy'], color='maroon',label=\"Validation accuracy\")\n",
    "plt.xlabel('Epochs')\n",
    "plt.ylabel('accuracy')\n",
    "plt.legend(loc='best', shadow=True)\n",
    "plt.show()"
   ]
  },
  {
   "cell_type": "markdown",
   "metadata": {
    "pycharm": {
     "name": "#%% md\n"
    }
   },
   "source": [
    "#### 五个卷积层，三个池层，三个全连接层，分别有256,512,1024个神经元\n",
    "#### 带填充，以及进行批量标准化\n"
   ]
  },
  {
   "cell_type": "code",
   "execution_count": 53,
   "metadata": {
    "pycharm": {
     "name": "#%%\n"
    }
   },
   "outputs": [],
   "source": [
    "from tensorflow.python.keras.layers import Dense\n",
    "from tensorflow.python.keras.layers import BatchNormalization\n",
    "from tensorflow.python.keras.layers import Conv2D\n",
    "from tensorflow.python.keras.layers import MaxPooling2D\n",
    "from tensorflow.python.keras.layers import Dropout\n",
    "from tensorflow.python.keras.layers import Flatten\n",
    "cnn_all = tf.keras.models.Sequential()\n",
    "\n",
    "cnn_all.add(Conv2D(32, 3, padding='same', activation='relu', input_shape=input_shape))\n",
    "cnn_all.add(Dropout(0.5))\n",
    "BatchNormalization()\n",
    "\n",
    "cnn_all.add(Conv2D(64, 3, padding='same', activation='relu'))\n",
    "cnn_all.add(MaxPooling2D(2))\n",
    "BatchNormalization()\n",
    "\n",
    "cnn_all.add(Conv2D(128, 3, padding='same', activation ='relu'))\n",
    "cnn_all.add(Dropout(0.5))\n",
    "BatchNormalization()\n",
    "cnn_all.add(Conv2D(256, 3, padding='same', activation ='relu'))\n",
    "cnn_all.add(MaxPooling2D(2, 2))\n",
    "BatchNormalization()\n",
    "\n",
    "cnn_all.add(Conv2D(512, 3, padding='same', activation ='relu'))\n",
    "cnn_all.add(Dropout(0.5))\n",
    "cnn_all.add(MaxPooling2D(2, 2))\n",
    "BatchNormalization()\n",
    "\n",
    "cnn_all.add(Dropout(0.5))\n",
    "\n",
    "cnn_all.add(Flatten())\n",
    "\n",
    "cnn_all.add(Dense(256, activation='relu'))\n",
    "cnn_all.add(Dropout(0.5))\n",
    "BatchNormalization()\n",
    "cnn_all.add(Dense(512, activation='relu'))\n",
    "cnn_all.add(Dropout(0.5))\n",
    "BatchNormalization()\n",
    "cnn_all.add(Dense(1024, activation='relu'))\n",
    "cnn_all.add(Dropout(0.5))\n",
    "BatchNormalization()\n",
    "cnn_all.add(Dense(10, activation='softmax'))"
   ]
  },
  {
   "cell_type": "code",
   "execution_count": 54,
   "metadata": {
    "pycharm": {
     "name": "#%%\n"
    }
   },
   "outputs": [
    {
     "name": "stdout",
     "output_type": "stream",
     "text": [
      "Model: \"sequential_7\"\n",
      "_________________________________________________________________\n",
      "Layer (type)                 Output Shape              Param #   \n",
      "=================================================================\n",
      "conv2d_15 (Conv2D)           (None, 28, 28, 32)        320       \n",
      "_________________________________________________________________\n",
      "dropout_22 (Dropout)         (None, 28, 28, 32)        0         \n",
      "_________________________________________________________________\n",
      "conv2d_16 (Conv2D)           (None, 28, 28, 64)        18496     \n",
      "_________________________________________________________________\n",
      "max_pooling2d_9 (MaxPooling2 (None, 14, 14, 64)        0         \n",
      "_________________________________________________________________\n",
      "conv2d_17 (Conv2D)           (None, 14, 14, 128)       73856     \n",
      "_________________________________________________________________\n",
      "dropout_23 (Dropout)         (None, 14, 14, 128)       0         \n",
      "_________________________________________________________________\n",
      "conv2d_18 (Conv2D)           (None, 14, 14, 256)       295168    \n",
      "_________________________________________________________________\n",
      "max_pooling2d_10 (MaxPooling (None, 7, 7, 256)         0         \n",
      "_________________________________________________________________\n",
      "conv2d_19 (Conv2D)           (None, 7, 7, 512)         1180160   \n",
      "_________________________________________________________________\n",
      "dropout_24 (Dropout)         (None, 7, 7, 512)         0         \n",
      "_________________________________________________________________\n",
      "max_pooling2d_11 (MaxPooling (None, 3, 3, 512)         0         \n",
      "_________________________________________________________________\n",
      "dropout_25 (Dropout)         (None, 3, 3, 512)         0         \n",
      "_________________________________________________________________\n",
      "flatten_5 (Flatten)          (None, 4608)              0         \n",
      "_________________________________________________________________\n",
      "dense_19 (Dense)             (None, 256)               1179904   \n",
      "_________________________________________________________________\n",
      "dropout_26 (Dropout)         (None, 256)               0         \n",
      "_________________________________________________________________\n",
      "dense_20 (Dense)             (None, 512)               131584    \n",
      "_________________________________________________________________\n",
      "dropout_27 (Dropout)         (None, 512)               0         \n",
      "_________________________________________________________________\n",
      "dense_21 (Dense)             (None, 1024)              525312    \n",
      "_________________________________________________________________\n",
      "dropout_28 (Dropout)         (None, 1024)              0         \n",
      "_________________________________________________________________\n",
      "dense_22 (Dense)             (None, 10)                10250     \n",
      "=================================================================\n",
      "Total params: 3,415,050\n",
      "Trainable params: 3,415,050\n",
      "Non-trainable params: 0\n",
      "_________________________________________________________________\n"
     ]
    }
   ],
   "source": [
    "cnn_all.summary()"
   ]
  },
  {
   "cell_type": "code",
   "execution_count": 55,
   "metadata": {
    "pycharm": {
     "name": "#%%\n"
    }
   },
   "outputs": [],
   "source": [
    "cnn_all.compile(optimizer=Adam(lr = 0.0001),\n",
    "              loss = 'categorical_crossentropy',\n",
    "              metrics=['accuracy'])"
   ]
  },
  {
   "cell_type": "code",
   "execution_count": 56,
   "metadata": {
    "pycharm": {
     "name": "#%%\n"
    }
   },
   "outputs": [
    {
     "name": "stdout",
     "output_type": "stream",
     "text": [
      "Epoch 1/140\n",
      "160/160 [==============================] - 3s 13ms/step - loss: 1.7570 - accuracy: 0.3089 - val_loss: 1.5519 - val_accuracy: 0.5578\n",
      "Epoch 2/140\n",
      "160/160 [==============================] - 2s 11ms/step - loss: 1.0576 - accuracy: 0.5860 - val_loss: 1.0666 - val_accuracy: 0.6924\n",
      "Epoch 3/140\n",
      "160/160 [==============================] - 2s 11ms/step - loss: 0.7990 - accuracy: 0.6959 - val_loss: 0.9661 - val_accuracy: 0.7184\n",
      "Epoch 4/140\n",
      "160/160 [==============================] - 2s 11ms/step - loss: 0.7067 - accuracy: 0.7307 - val_loss: 0.8274 - val_accuracy: 0.7540\n",
      "Epoch 5/140\n",
      "160/160 [==============================] - 2s 11ms/step - loss: 0.6484 - accuracy: 0.7519 - val_loss: 0.7376 - val_accuracy: 0.7816\n",
      "Epoch 6/140\n",
      "160/160 [==============================] - 2s 11ms/step - loss: 0.6051 - accuracy: 0.7681 - val_loss: 0.6635 - val_accuracy: 0.8062\n",
      "Epoch 7/140\n",
      "160/160 [==============================] - 2s 11ms/step - loss: 0.5688 - accuracy: 0.7834 - val_loss: 0.6019 - val_accuracy: 0.8251\n",
      "Epoch 8/140\n",
      "160/160 [==============================] - 2s 11ms/step - loss: 0.5412 - accuracy: 0.7933 - val_loss: 0.5685 - val_accuracy: 0.8386\n",
      "Epoch 9/140\n",
      "160/160 [==============================] - 2s 11ms/step - loss: 0.5108 - accuracy: 0.8085 - val_loss: 0.5213 - val_accuracy: 0.8428\n",
      "Epoch 10/140\n",
      "160/160 [==============================] - 2s 11ms/step - loss: 0.4936 - accuracy: 0.8180 - val_loss: 0.5162 - val_accuracy: 0.8446\n",
      "Epoch 11/140\n",
      "160/160 [==============================] - 2s 11ms/step - loss: 0.4753 - accuracy: 0.8249 - val_loss: 0.4758 - val_accuracy: 0.8554\n",
      "Epoch 12/140\n",
      "160/160 [==============================] - 2s 11ms/step - loss: 0.4517 - accuracy: 0.8340 - val_loss: 0.4529 - val_accuracy: 0.8602\n",
      "Epoch 13/140\n",
      "160/160 [==============================] - 2s 11ms/step - loss: 0.4404 - accuracy: 0.8378 - val_loss: 0.4419 - val_accuracy: 0.8640\n",
      "Epoch 14/140\n",
      "160/160 [==============================] - 2s 11ms/step - loss: 0.4314 - accuracy: 0.8428 - val_loss: 0.4305 - val_accuracy: 0.8689\n",
      "Epoch 15/140\n",
      "160/160 [==============================] - 2s 11ms/step - loss: 0.4185 - accuracy: 0.8477 - val_loss: 0.3866 - val_accuracy: 0.8733\n",
      "Epoch 16/140\n",
      "160/160 [==============================] - 2s 11ms/step - loss: 0.4031 - accuracy: 0.8515 - val_loss: 0.3879 - val_accuracy: 0.8760\n",
      "Epoch 17/140\n",
      "160/160 [==============================] - 2s 11ms/step - loss: 0.3952 - accuracy: 0.8560 - val_loss: 0.3697 - val_accuracy: 0.8789\n",
      "Epoch 18/140\n",
      "160/160 [==============================] - 2s 11ms/step - loss: 0.3876 - accuracy: 0.8592 - val_loss: 0.3721 - val_accuracy: 0.8768\n",
      "Epoch 19/140\n",
      "160/160 [==============================] - 2s 11ms/step - loss: 0.3793 - accuracy: 0.8623 - val_loss: 0.3660 - val_accuracy: 0.8798\n",
      "Epoch 20/140\n",
      "160/160 [==============================] - 2s 11ms/step - loss: 0.3724 - accuracy: 0.8637 - val_loss: 0.3577 - val_accuracy: 0.8777\n",
      "Epoch 21/140\n",
      "160/160 [==============================] - 2s 11ms/step - loss: 0.3646 - accuracy: 0.8670 - val_loss: 0.3451 - val_accuracy: 0.8883\n",
      "Epoch 22/140\n",
      "160/160 [==============================] - 2s 11ms/step - loss: 0.3567 - accuracy: 0.8720 - val_loss: 0.3625 - val_accuracy: 0.8747\n",
      "Epoch 23/140\n",
      "160/160 [==============================] - 2s 11ms/step - loss: 0.3519 - accuracy: 0.8735 - val_loss: 0.3418 - val_accuracy: 0.8806\n",
      "Epoch 24/140\n",
      "160/160 [==============================] - 2s 11ms/step - loss: 0.3437 - accuracy: 0.8750 - val_loss: 0.3301 - val_accuracy: 0.8869\n",
      "Epoch 25/140\n",
      "160/160 [==============================] - 2s 11ms/step - loss: 0.3393 - accuracy: 0.8774 - val_loss: 0.3257 - val_accuracy: 0.8872\n",
      "Epoch 26/140\n",
      "160/160 [==============================] - 2s 11ms/step - loss: 0.3312 - accuracy: 0.8789 - val_loss: 0.3147 - val_accuracy: 0.8905\n",
      "Epoch 27/140\n",
      "160/160 [==============================] - 2s 11ms/step - loss: 0.3239 - accuracy: 0.8816 - val_loss: 0.3187 - val_accuracy: 0.8849\n",
      "Epoch 28/140\n",
      "160/160 [==============================] - 2s 11ms/step - loss: 0.3221 - accuracy: 0.8843 - val_loss: 0.3053 - val_accuracy: 0.8900\n",
      "Epoch 29/140\n",
      "160/160 [==============================] - 2s 11ms/step - loss: 0.3150 - accuracy: 0.8874 - val_loss: 0.3006 - val_accuracy: 0.8902\n",
      "Epoch 30/140\n",
      "160/160 [==============================] - 2s 11ms/step - loss: 0.3086 - accuracy: 0.8885 - val_loss: 0.3079 - val_accuracy: 0.8867\n",
      "Epoch 31/140\n",
      "160/160 [==============================] - 2s 11ms/step - loss: 0.3086 - accuracy: 0.8871 - val_loss: 0.3011 - val_accuracy: 0.8914\n",
      "Epoch 32/140\n",
      "160/160 [==============================] - 2s 11ms/step - loss: 0.3005 - accuracy: 0.8911 - val_loss: 0.2936 - val_accuracy: 0.8940\n",
      "Epoch 33/140\n",
      "160/160 [==============================] - 2s 11ms/step - loss: 0.2994 - accuracy: 0.8921 - val_loss: 0.2964 - val_accuracy: 0.8894\n",
      "Epoch 34/140\n",
      "160/160 [==============================] - 2s 11ms/step - loss: 0.2942 - accuracy: 0.8930 - val_loss: 0.2832 - val_accuracy: 0.8962\n",
      "Epoch 35/140\n",
      "160/160 [==============================] - 2s 11ms/step - loss: 0.2855 - accuracy: 0.8969 - val_loss: 0.2864 - val_accuracy: 0.8949\n",
      "Epoch 36/140\n",
      "160/160 [==============================] - 2s 11ms/step - loss: 0.2838 - accuracy: 0.8976 - val_loss: 0.2933 - val_accuracy: 0.8915\n",
      "Epoch 37/140\n",
      "160/160 [==============================] - 2s 11ms/step - loss: 0.2790 - accuracy: 0.8983 - val_loss: 0.2848 - val_accuracy: 0.8960\n",
      "Epoch 38/140\n",
      "160/160 [==============================] - 2s 11ms/step - loss: 0.2778 - accuracy: 0.8990 - val_loss: 0.2706 - val_accuracy: 0.9013\n",
      "Epoch 39/140\n",
      "160/160 [==============================] - 2s 11ms/step - loss: 0.2745 - accuracy: 0.9003 - val_loss: 0.2759 - val_accuracy: 0.8971\n",
      "Epoch 40/140\n",
      "160/160 [==============================] - 2s 11ms/step - loss: 0.2683 - accuracy: 0.9026 - val_loss: 0.2531 - val_accuracy: 0.9102\n",
      "Epoch 41/140\n",
      "160/160 [==============================] - 2s 11ms/step - loss: 0.2652 - accuracy: 0.9044 - val_loss: 0.2519 - val_accuracy: 0.9100\n",
      "Epoch 42/140\n",
      "160/160 [==============================] - 2s 11ms/step - loss: 0.2632 - accuracy: 0.9049 - val_loss: 0.2767 - val_accuracy: 0.8967\n",
      "Epoch 43/140\n",
      "160/160 [==============================] - 2s 11ms/step - loss: 0.2611 - accuracy: 0.9045 - val_loss: 0.2529 - val_accuracy: 0.9075\n",
      "Epoch 44/140\n",
      "160/160 [==============================] - 2s 11ms/step - loss: 0.2560 - accuracy: 0.9074 - val_loss: 0.2493 - val_accuracy: 0.9097\n",
      "Epoch 45/140\n",
      "160/160 [==============================] - 2s 11ms/step - loss: 0.2533 - accuracy: 0.9082 - val_loss: 0.2468 - val_accuracy: 0.9103\n",
      "Epoch 46/140\n",
      "160/160 [==============================] - 2s 11ms/step - loss: 0.2503 - accuracy: 0.9086 - val_loss: 0.2325 - val_accuracy: 0.9156\n",
      "Epoch 47/140\n",
      "160/160 [==============================] - 2s 11ms/step - loss: 0.2466 - accuracy: 0.9113 - val_loss: 0.2441 - val_accuracy: 0.9102\n",
      "Epoch 48/140\n",
      "160/160 [==============================] - 2s 11ms/step - loss: 0.2456 - accuracy: 0.9113 - val_loss: 0.2328 - val_accuracy: 0.9161\n",
      "Epoch 49/140\n",
      "160/160 [==============================] - 2s 11ms/step - loss: 0.2415 - accuracy: 0.9132 - val_loss: 0.2412 - val_accuracy: 0.9118\n",
      "Epoch 50/140\n",
      "160/160 [==============================] - 2s 11ms/step - loss: 0.2419 - accuracy: 0.9116 - val_loss: 0.2255 - val_accuracy: 0.9183\n",
      "Epoch 51/140\n",
      "160/160 [==============================] - 2s 11ms/step - loss: 0.2362 - accuracy: 0.9141 - val_loss: 0.2269 - val_accuracy: 0.9183\n",
      "Epoch 52/140\n",
      "160/160 [==============================] - 2s 11ms/step - loss: 0.2319 - accuracy: 0.9163 - val_loss: 0.2297 - val_accuracy: 0.9175\n",
      "Epoch 53/140\n",
      "160/160 [==============================] - 2s 12ms/step - loss: 0.2318 - accuracy: 0.9172 - val_loss: 0.2217 - val_accuracy: 0.9208\n",
      "Epoch 54/140\n",
      "160/160 [==============================] - 2s 11ms/step - loss: 0.2289 - accuracy: 0.9162 - val_loss: 0.2172 - val_accuracy: 0.9211\n",
      "Epoch 55/140\n",
      "160/160 [==============================] - 2s 11ms/step - loss: 0.2268 - accuracy: 0.9172 - val_loss: 0.2166 - val_accuracy: 0.9219\n",
      "Epoch 56/140\n",
      "160/160 [==============================] - 2s 11ms/step - loss: 0.2275 - accuracy: 0.9175 - val_loss: 0.2357 - val_accuracy: 0.9129\n",
      "Epoch 57/140\n",
      "160/160 [==============================] - 2s 11ms/step - loss: 0.2213 - accuracy: 0.9198 - val_loss: 0.2140 - val_accuracy: 0.9233\n",
      "Epoch 58/140\n",
      "160/160 [==============================] - 2s 11ms/step - loss: 0.2225 - accuracy: 0.9196 - val_loss: 0.2120 - val_accuracy: 0.9240\n",
      "Epoch 59/140\n",
      "160/160 [==============================] - 2s 11ms/step - loss: 0.2144 - accuracy: 0.9225 - val_loss: 0.2197 - val_accuracy: 0.9187\n",
      "Epoch 60/140\n",
      "160/160 [==============================] - 2s 11ms/step - loss: 0.2159 - accuracy: 0.9210 - val_loss: 0.2117 - val_accuracy: 0.9237\n",
      "Epoch 61/140\n",
      "160/160 [==============================] - 2s 11ms/step - loss: 0.2127 - accuracy: 0.9222 - val_loss: 0.2236 - val_accuracy: 0.9195\n",
      "Epoch 62/140\n",
      "160/160 [==============================] - 2s 11ms/step - loss: 0.2114 - accuracy: 0.9235 - val_loss: 0.2044 - val_accuracy: 0.9262\n",
      "Epoch 63/140\n",
      "160/160 [==============================] - 2s 11ms/step - loss: 0.2070 - accuracy: 0.9251 - val_loss: 0.2081 - val_accuracy: 0.9245\n",
      "Epoch 64/140\n",
      "160/160 [==============================] - 2s 11ms/step - loss: 0.2069 - accuracy: 0.9249 - val_loss: 0.2021 - val_accuracy: 0.9274\n",
      "Epoch 65/140\n",
      "160/160 [==============================] - 2s 11ms/step - loss: 0.2034 - accuracy: 0.9267 - val_loss: 0.2025 - val_accuracy: 0.9277\n",
      "Epoch 66/140\n",
      "160/160 [==============================] - 2s 11ms/step - loss: 0.2026 - accuracy: 0.9272 - val_loss: 0.2039 - val_accuracy: 0.9256\n",
      "Epoch 67/140\n",
      "160/160 [==============================] - 2s 11ms/step - loss: 0.2001 - accuracy: 0.9275 - val_loss: 0.2008 - val_accuracy: 0.9290\n",
      "Epoch 68/140\n",
      "160/160 [==============================] - 2s 11ms/step - loss: 0.2003 - accuracy: 0.9271 - val_loss: 0.2010 - val_accuracy: 0.9277\n",
      "Epoch 69/140\n",
      "160/160 [==============================] - 2s 11ms/step - loss: 0.1993 - accuracy: 0.9272 - val_loss: 0.2011 - val_accuracy: 0.9271\n",
      "Epoch 70/140\n",
      "160/160 [==============================] - 2s 11ms/step - loss: 0.1947 - accuracy: 0.9297 - val_loss: 0.1989 - val_accuracy: 0.9282\n",
      "Epoch 71/140\n",
      "160/160 [==============================] - 2s 11ms/step - loss: 0.1947 - accuracy: 0.9291 - val_loss: 0.1937 - val_accuracy: 0.9288\n",
      "Epoch 72/140\n",
      "160/160 [==============================] - 2s 11ms/step - loss: 0.1926 - accuracy: 0.9293 - val_loss: 0.1962 - val_accuracy: 0.9279\n",
      "Epoch 73/140\n",
      "160/160 [==============================] - 2s 11ms/step - loss: 0.1918 - accuracy: 0.9294 - val_loss: 0.2004 - val_accuracy: 0.9272\n",
      "Epoch 74/140\n",
      "160/160 [==============================] - 2s 11ms/step - loss: 0.1883 - accuracy: 0.9296 - val_loss: 0.1987 - val_accuracy: 0.9268\n",
      "Epoch 75/140\n",
      "160/160 [==============================] - 2s 11ms/step - loss: 0.1862 - accuracy: 0.9310 - val_loss: 0.1994 - val_accuracy: 0.9274\n",
      "Epoch 76/140\n",
      "160/160 [==============================] - 2s 11ms/step - loss: 0.1846 - accuracy: 0.9324 - val_loss: 0.2041 - val_accuracy: 0.9268\n",
      "Epoch 77/140\n",
      "160/160 [==============================] - 2s 11ms/step - loss: 0.1865 - accuracy: 0.9317 - val_loss: 0.1932 - val_accuracy: 0.9300\n",
      "Epoch 78/140\n",
      "160/160 [==============================] - 2s 11ms/step - loss: 0.1842 - accuracy: 0.9326 - val_loss: 0.1958 - val_accuracy: 0.9272\n",
      "Epoch 79/140\n",
      "160/160 [==============================] - 2s 11ms/step - loss: 0.1802 - accuracy: 0.9344 - val_loss: 0.1894 - val_accuracy: 0.9322\n",
      "Epoch 80/140\n",
      "160/160 [==============================] - 2s 11ms/step - loss: 0.1814 - accuracy: 0.9335 - val_loss: 0.1896 - val_accuracy: 0.9309\n",
      "Epoch 81/140\n",
      "160/160 [==============================] - 2s 11ms/step - loss: 0.1765 - accuracy: 0.9359 - val_loss: 0.1995 - val_accuracy: 0.9266\n",
      "Epoch 82/140\n",
      "160/160 [==============================] - 2s 11ms/step - loss: 0.1798 - accuracy: 0.9352 - val_loss: 0.1964 - val_accuracy: 0.9279\n",
      "Epoch 83/140\n",
      "160/160 [==============================] - 2s 11ms/step - loss: 0.1743 - accuracy: 0.9352 - val_loss: 0.1951 - val_accuracy: 0.9272\n",
      "Epoch 84/140\n",
      "160/160 [==============================] - 2s 11ms/step - loss: 0.1753 - accuracy: 0.9355 - val_loss: 0.1908 - val_accuracy: 0.9308\n",
      "Epoch 85/140\n",
      "160/160 [==============================] - 2s 11ms/step - loss: 0.1714 - accuracy: 0.9364 - val_loss: 0.1953 - val_accuracy: 0.9287\n",
      "Epoch 86/140\n",
      "160/160 [==============================] - 2s 11ms/step - loss: 0.1747 - accuracy: 0.9365 - val_loss: 0.1832 - val_accuracy: 0.9333\n",
      "Epoch 87/140\n",
      "160/160 [==============================] - 2s 11ms/step - loss: 0.1688 - accuracy: 0.9387 - val_loss: 0.1885 - val_accuracy: 0.9312\n",
      "Epoch 88/140\n",
      "160/160 [==============================] - 2s 11ms/step - loss: 0.1688 - accuracy: 0.9382 - val_loss: 0.1882 - val_accuracy: 0.9320\n",
      "Epoch 89/140\n",
      "160/160 [==============================] - 2s 11ms/step - loss: 0.1669 - accuracy: 0.9402 - val_loss: 0.1866 - val_accuracy: 0.9311\n",
      "Epoch 90/140\n",
      "160/160 [==============================] - 2s 11ms/step - loss: 0.1640 - accuracy: 0.9415 - val_loss: 0.1888 - val_accuracy: 0.9310\n",
      "Epoch 91/140\n",
      "160/160 [==============================] - 2s 11ms/step - loss: 0.1650 - accuracy: 0.9390 - val_loss: 0.1865 - val_accuracy: 0.9299\n",
      "Epoch 92/140\n",
      "160/160 [==============================] - 2s 11ms/step - loss: 0.1630 - accuracy: 0.9407 - val_loss: 0.1868 - val_accuracy: 0.9308\n",
      "Epoch 93/140\n",
      "160/160 [==============================] - 2s 11ms/step - loss: 0.1609 - accuracy: 0.9406 - val_loss: 0.1834 - val_accuracy: 0.9320\n",
      "Epoch 94/140\n",
      "160/160 [==============================] - 2s 11ms/step - loss: 0.1604 - accuracy: 0.9409 - val_loss: 0.1884 - val_accuracy: 0.9302\n",
      "Epoch 95/140\n",
      "160/160 [==============================] - 2s 11ms/step - loss: 0.1584 - accuracy: 0.9420 - val_loss: 0.1883 - val_accuracy: 0.9317\n",
      "Epoch 96/140\n",
      "160/160 [==============================] - 2s 11ms/step - loss: 0.1558 - accuracy: 0.9430 - val_loss: 0.1885 - val_accuracy: 0.9319\n",
      "Epoch 97/140\n",
      "160/160 [==============================] - 2s 11ms/step - loss: 0.1535 - accuracy: 0.9454 - val_loss: 0.1820 - val_accuracy: 0.9331\n",
      "Epoch 98/140\n",
      "160/160 [==============================] - 2s 11ms/step - loss: 0.1530 - accuracy: 0.9441 - val_loss: 0.1828 - val_accuracy: 0.9327\n",
      "Epoch 99/140\n",
      "160/160 [==============================] - 2s 11ms/step - loss: 0.1538 - accuracy: 0.9429 - val_loss: 0.1868 - val_accuracy: 0.9310\n",
      "Epoch 100/140\n",
      "160/160 [==============================] - 2s 11ms/step - loss: 0.1529 - accuracy: 0.9435 - val_loss: 0.1832 - val_accuracy: 0.9338\n",
      "Epoch 101/140\n",
      "160/160 [==============================] - 2s 11ms/step - loss: 0.1522 - accuracy: 0.9442 - val_loss: 0.1803 - val_accuracy: 0.9343\n",
      "Epoch 102/140\n",
      "160/160 [==============================] - 2s 11ms/step - loss: 0.1498 - accuracy: 0.9451 - val_loss: 0.1858 - val_accuracy: 0.9311\n",
      "Epoch 103/140\n",
      "160/160 [==============================] - 2s 11ms/step - loss: 0.1491 - accuracy: 0.9453 - val_loss: 0.1874 - val_accuracy: 0.9289\n",
      "Epoch 104/140\n",
      "160/160 [==============================] - 2s 11ms/step - loss: 0.1487 - accuracy: 0.9461 - val_loss: 0.1790 - val_accuracy: 0.9330\n",
      "Epoch 105/140\n",
      "160/160 [==============================] - 2s 11ms/step - loss: 0.1479 - accuracy: 0.9453 - val_loss: 0.1894 - val_accuracy: 0.9300\n",
      "Epoch 106/140\n",
      "160/160 [==============================] - 2s 11ms/step - loss: 0.1446 - accuracy: 0.9467 - val_loss: 0.1896 - val_accuracy: 0.9323\n",
      "Epoch 107/140\n",
      "160/160 [==============================] - 2s 11ms/step - loss: 0.1443 - accuracy: 0.9465 - val_loss: 0.1868 - val_accuracy: 0.9323\n",
      "Epoch 108/140\n",
      "160/160 [==============================] - 2s 11ms/step - loss: 0.1454 - accuracy: 0.9473 - val_loss: 0.1787 - val_accuracy: 0.9345\n",
      "Epoch 109/140\n",
      "160/160 [==============================] - 2s 11ms/step - loss: 0.1460 - accuracy: 0.9463 - val_loss: 0.1858 - val_accuracy: 0.9304\n",
      "Epoch 110/140\n",
      "160/160 [==============================] - 2s 11ms/step - loss: 0.1367 - accuracy: 0.9504 - val_loss: 0.1806 - val_accuracy: 0.9333\n",
      "Epoch 111/140\n",
      "160/160 [==============================] - 2s 11ms/step - loss: 0.1426 - accuracy: 0.9471 - val_loss: 0.1822 - val_accuracy: 0.9336\n",
      "Epoch 112/140\n",
      "160/160 [==============================] - 2s 11ms/step - loss: 0.1367 - accuracy: 0.9495 - val_loss: 0.1790 - val_accuracy: 0.9366\n",
      "Epoch 113/140\n",
      "160/160 [==============================] - 2s 11ms/step - loss: 0.1378 - accuracy: 0.9495 - val_loss: 0.1779 - val_accuracy: 0.9352\n",
      "Epoch 114/140\n",
      "160/160 [==============================] - 2s 11ms/step - loss: 0.1350 - accuracy: 0.9493 - val_loss: 0.1801 - val_accuracy: 0.9349\n",
      "Epoch 115/140\n",
      "160/160 [==============================] - 2s 11ms/step - loss: 0.1374 - accuracy: 0.9500 - val_loss: 0.1780 - val_accuracy: 0.9348\n",
      "Epoch 116/140\n",
      "160/160 [==============================] - 2s 11ms/step - loss: 0.1368 - accuracy: 0.9500 - val_loss: 0.1865 - val_accuracy: 0.9337\n",
      "Epoch 117/140\n",
      "160/160 [==============================] - 2s 11ms/step - loss: 0.1296 - accuracy: 0.9524 - val_loss: 0.1848 - val_accuracy: 0.9337\n",
      "Epoch 118/140\n",
      "160/160 [==============================] - 2s 11ms/step - loss: 0.1330 - accuracy: 0.9504 - val_loss: 0.1739 - val_accuracy: 0.9373\n",
      "Epoch 119/140\n",
      "160/160 [==============================] - 2s 11ms/step - loss: 0.1331 - accuracy: 0.9507 - val_loss: 0.1816 - val_accuracy: 0.9337\n",
      "Epoch 120/140\n",
      "160/160 [==============================] - 2s 11ms/step - loss: 0.1301 - accuracy: 0.9509 - val_loss: 0.1803 - val_accuracy: 0.9348\n",
      "Epoch 121/140\n",
      "160/160 [==============================] - 2s 11ms/step - loss: 0.1301 - accuracy: 0.9534 - val_loss: 0.1817 - val_accuracy: 0.9340\n",
      "Epoch 122/140\n",
      "160/160 [==============================] - 2s 11ms/step - loss: 0.1284 - accuracy: 0.9521 - val_loss: 0.1857 - val_accuracy: 0.9340\n",
      "Epoch 123/140\n",
      "160/160 [==============================] - 2s 11ms/step - loss: 0.1267 - accuracy: 0.9531 - val_loss: 0.1785 - val_accuracy: 0.9355\n",
      "Epoch 124/140\n",
      "160/160 [==============================] - 2s 11ms/step - loss: 0.1266 - accuracy: 0.9528 - val_loss: 0.1802 - val_accuracy: 0.9345\n",
      "Epoch 125/140\n",
      "160/160 [==============================] - 2s 11ms/step - loss: 0.1277 - accuracy: 0.9537 - val_loss: 0.1933 - val_accuracy: 0.9298\n",
      "Epoch 126/140\n",
      "160/160 [==============================] - 2s 11ms/step - loss: 0.1257 - accuracy: 0.9534 - val_loss: 0.1828 - val_accuracy: 0.9335\n",
      "Epoch 127/140\n",
      "160/160 [==============================] - 2s 11ms/step - loss: 0.1244 - accuracy: 0.9546 - val_loss: 0.1888 - val_accuracy: 0.9323\n",
      "Epoch 128/140\n",
      "160/160 [==============================] - 2s 11ms/step - loss: 0.1235 - accuracy: 0.9547 - val_loss: 0.1804 - val_accuracy: 0.9358\n",
      "Epoch 129/140\n",
      "160/160 [==============================] - 2s 11ms/step - loss: 0.1219 - accuracy: 0.9545 - val_loss: 0.1772 - val_accuracy: 0.9359\n",
      "Epoch 130/140\n",
      "160/160 [==============================] - 2s 11ms/step - loss: 0.1232 - accuracy: 0.9541 - val_loss: 0.1809 - val_accuracy: 0.9348\n",
      "Epoch 131/140\n",
      "160/160 [==============================] - 2s 11ms/step - loss: 0.1201 - accuracy: 0.9554 - val_loss: 0.1836 - val_accuracy: 0.9334\n",
      "Epoch 132/140\n",
      "160/160 [==============================] - 2s 11ms/step - loss: 0.1181 - accuracy: 0.9572 - val_loss: 0.1901 - val_accuracy: 0.9325\n",
      "Epoch 133/140\n",
      "160/160 [==============================] - 2s 11ms/step - loss: 0.1182 - accuracy: 0.9563 - val_loss: 0.1847 - val_accuracy: 0.9345\n",
      "Epoch 134/140\n",
      "160/160 [==============================] - 2s 11ms/step - loss: 0.1153 - accuracy: 0.9578 - val_loss: 0.1766 - val_accuracy: 0.9379\n",
      "Epoch 135/140\n",
      "160/160 [==============================] - 2s 11ms/step - loss: 0.1155 - accuracy: 0.9578 - val_loss: 0.1813 - val_accuracy: 0.9362\n",
      "Epoch 136/140\n",
      "160/160 [==============================] - 2s 11ms/step - loss: 0.1153 - accuracy: 0.9580 - val_loss: 0.1920 - val_accuracy: 0.9330\n",
      "Epoch 137/140\n",
      "160/160 [==============================] - 2s 11ms/step - loss: 0.1163 - accuracy: 0.9574 - val_loss: 0.1795 - val_accuracy: 0.9370\n",
      "Epoch 138/140\n",
      "160/160 [==============================] - 2s 11ms/step - loss: 0.1160 - accuracy: 0.9576 - val_loss: 0.1796 - val_accuracy: 0.9374\n",
      "Epoch 139/140\n",
      "160/160 [==============================] - 2s 11ms/step - loss: 0.1131 - accuracy: 0.9580 - val_loss: 0.1748 - val_accuracy: 0.9373\n",
      "Epoch 140/140\n",
      "160/160 [==============================] - 2s 11ms/step - loss: 0.1168 - accuracy: 0.9575 - val_loss: 0.1782 - val_accuracy: 0.9383\n"
     ]
    }
   ],
   "source": [
    "history_all = cnn_all.fit(X_train, y_train,\n",
    "                    validation_data=(X_validate, y_validate),\n",
    "                    epochs=140, \n",
    "                    batch_size=300)"
   ]
  },
  {
   "cell_type": "code",
   "execution_count": 22,
   "outputs": [],
   "source": [
    "from tensorflow.keras.models import  load_model\n",
    "cnn_all=load_model('saved_model/cnn_all.h5')"
   ],
   "metadata": {
    "collapsed": false,
    "pycharm": {
     "name": "#%%\n"
    }
   }
  },
  {
   "cell_type": "code",
   "execution_count": 23,
   "metadata": {
    "pycharm": {
     "name": "#%%\n"
    }
   },
   "outputs": [
    {
     "name": "stdout",
     "output_type": "stream",
     "text": [
      "Test loss: 0.10858841240406036\n",
      "Test accuracy: 96.53000235557556\n"
     ]
    }
   ],
   "source": [
    "#y_pred = cnn_all.predict_classes(X_test, verbose=0)\n",
    "score = cnn_all.evaluate(X_test, y_test, verbose=0)\n",
    "print('Test loss:', score[0])\n",
    "print('Test accuracy:', score[1]*100)"
   ]
  },
  {
   "cell_type": "code",
   "execution_count": 58,
   "metadata": {
    "collapsed": false,
    "jupyter": {
     "outputs_hidden": false
    },
    "pycharm": {
     "name": "#%%\n"
    }
   },
   "outputs": [],
   "source": [
    "cnn_all.save('saved_model/cnn_all.h5')"
   ]
  },
  {
   "cell_type": "code",
   "execution_count": 59,
   "metadata": {
    "pycharm": {
     "name": "#%%\n"
    }
   },
   "outputs": [
    {
     "data": {
      "image/png": "[encoded data removed]",
      "text/plain": [
       "<Figure size 1296x576 with 2 Axes>"
      ]
     },
     "metadata": {
      "needs_background": "light"
     },
     "output_type": "display_data"
    }
   ],
   "source": [
    "plt.figure(figsize = (18,8))\n",
    "plt.subplot(121)\n",
    "plt.plot(history_all.history['loss'], color='darkcyan', label=\"Training loss\")\n",
    "plt.plot(history_all.history['val_loss'], color='maroon', label=\"validation loss\",)\n",
    "plt.xlabel('Epochs')\n",
    "plt.ylabel('loss')\n",
    "plt.legend(loc='best', shadow=True)\n",
    "plt.subplot(122)\n",
    "plt.plot(history_all.history['accuracy'], color='darkcyan', label=\"Training accuracy\")\n",
    "plt.plot(history_all.history['val_accuracy'], color='maroon',label=\"Validation accuracy\")\n",
    "plt.xlabel('Epochs')\n",
    "plt.ylabel('accuracy')\n",
    "plt.legend(loc='best', shadow=True)\n",
    "plt.show()"
   ]
  },
  {
   "cell_type": "markdown",
   "metadata": {
    "pycharm": {
     "name": "#%% md\n"
    }
   },
   "source": [
    "#### 混淆矩阵"
   ]
  },
  {
   "cell_type": "code",
   "execution_count": 25,
   "metadata": {
    "collapsed": false,
    "jupyter": {
     "outputs_hidden": false
    },
    "pycharm": {
     "name": "#%%\n"
    }
   },
   "outputs": [
    {
     "name": "stderr",
     "output_type": "stream",
     "text": [
      "D:\\data\\PythonProgram\\MachineStudyFinalWork\\venv\\lib\\site-packages\\tensorflow\\python\\keras\\engine\\sequential.py:455: UserWarning: `model.predict_classes()` is deprecated and will be removed after 2021-01-01. Please use instead:* `np.argmax(model.predict(x), axis=-1)`,   if your model does multi-class classification   (e.g. if it uses a `softmax` last-layer activation).* `(model.predict(x) > 0.5).astype(\"int32\")`,   if your model does binary classification   (e.g. if it uses a `sigmoid` last-layer activation).\n",
      "  warnings.warn('`model.predict_classes()` is deprecated and '\n"
     ]
    }
   ],
   "source": [
    "from tensorflow.keras.models import load_model\n",
    "cnn_all=load_model('saved_model/cnn_all.h5')\n",
    "y_pred = cnn_all.predict_classes(X_test, verbose=0)\n",
    "score = cnn_all.evaluate(X_test, y_test, verbose=0)"
   ]
  },
  {
   "cell_type": "code",
   "execution_count": 27,
   "metadata": {
    "collapsed": false,
    "jupyter": {
     "outputs_hidden": false
    },
    "pycharm": {
     "name": "#%%\n"
    }
   },
   "outputs": [],
   "source": [
    "plt.rcParams['font.sans-serif'] = ['SimHei']\n",
    "plt.rcParams['axes.unicode_minus'] = False\n",
    "classes = {0: 'T-shirt',\n",
    "           1: 'trousers',\n",
    "           2: 'sweater',\n",
    "           3: 'dress',\n",
    "           4: 'coat',\n",
    "           5: 'sandel',\n",
    "           6: 'shirt',\n",
    "           7: 'sneaker',\n",
    "           8: 'handbag',\n",
    "           9: 'Martin boots'}\n",
    "\n",
    "class_names = ['T-shirt','trousers','sweater','dress','coat',\n",
    "                       'sandel','shirt','sneaker','handbag','Martin boots']"
   ]
  },
  {
   "cell_type": "code",
   "execution_count": 28,
   "metadata": {
    "collapsed": false,
    "jupyter": {
     "outputs_hidden": false
    },
    "pycharm": {
     "name": "#%%\n"
    }
   },
   "outputs": [
    {
     "data": {
      "text/plain": "<Figure size 800x800 with 2 Axes>",
      "image/png": "[encoded data removed]"
     },
     "metadata": {},
     "output_type": "display_data"
    }
   ],
   "source": [
    "plt.rcParams['font.sans-serif'] = ['SimHei']\n",
    "plt.rcParams['axes.unicode_minus'] = False\n",
    "def plot_confusion_matrix(cm, classes,\n",
    "                          title='Confusion Matrix',\n",
    "                          cmap=plt.cm.Set3):\n",
    "    plt.figure(figsize = (8,8))\n",
    "    plt.imshow(cm, interpolation='nearest', cmap=cmap)\n",
    "    plt.title(title)\n",
    "    plt.colorbar()\n",
    "    tick_marks = np.arange(len(classes))\n",
    "    plt.xticks(tick_marks, classes, rotation=45)\n",
    "    plt.yticks(tick_marks, classes)\n",
    "\n",
    "    fmt = 'd'\n",
    "    thresh = cm.max() / 2.\n",
    "    for i, j in itertools.product(range(cm.shape[0]), range(cm.shape[1])):\n",
    "        plt.text(j, i, format(cm[i, j], fmt),\n",
    "                 horizontalalignment=\"center\",\n",
    "                 color=\"white\" if cm[i, j] > thresh else \"black\")\n",
    "\n",
    "\n",
    "    plt.tight_layout()\n",
    "    plt.ylabel('predicted')\n",
    "    plt.xlabel('actual')\n",
    "    plt.show()\n",
    "\n",
    "cnf_matrix = confusion_matrix(Y_test, y_pred)\n",
    "plot_confusion_matrix(cnf_matrix, classes = class_names)"
   ]
  },
  {
   "cell_type": "markdown",
   "source": [
    "# 处理DataFountain平台数据"
   ],
   "metadata": {
    "collapsed": false,
    "pycharm": {
     "name": "#%% md\n"
    }
   }
  },
  {
   "cell_type": "markdown",
   "source": [
    "#### 在上述训练后，当我从网上下载的另一份fashion-minist的数据集作为测试集时，准确率最终有96.5%左右，接下来的就是处理DataFountain平台的数据，输出得到结果上传平台"
   ],
   "metadata": {
    "collapsed": false,
    "pycharm": {
     "name": "#%% md\n"
    }
   }
  },
  {
   "cell_type": "markdown",
   "source": [
    "#### 引入依赖，处理数据"
   ],
   "metadata": {
    "collapsed": false,
    "pycharm": {
     "name": "#%% md\n"
    }
   }
  },
  {
   "cell_type": "code",
   "execution_count": 30,
   "outputs": [],
   "source": [
    "import numpy as np\n",
    "import pandas as pd\n",
    "from sklearn.model_selection import train_test_split\n",
    "\n",
    "train_data = pd.read_csv('train__data.csv')\n",
    "test_data = pd.read_csv('test__data.csv')\n",
    "train_data.head()\n",
    "\n",
    "train_data = np.array(train_data, dtype='float32')\n",
    "test_data = np.array(test_data, dtype='float32')\n",
    "\n",
    "X_train_orig = train_data[:, 1:] / 255\n",
    "y_train_orig = train_data[:, 0]\n",
    "X_test = test_data[:, 1:] / 255\n",
    "Y_test = test_data[:, 0]\n",
    "\n",
    "X_train, X_validate, y_train, y_validate = train_test_split(X_train_orig, y_train_orig, test_size=0.2, random_state=42)\n",
    "\n",
    "image_rows = 28\n",
    "image_cols = 28\n",
    "input_shape = (image_rows, image_cols, 1)\n",
    "X_train = X_train.reshape(X_train.shape[0], image_rows, image_cols, 1)\n",
    "X_test = X_test.reshape(X_test.shape[0], image_rows, image_cols, 1)\n",
    "X_validate = X_validate.reshape(X_validate.shape[0], image_rows, image_cols, 1)"
   ],
   "metadata": {
    "collapsed": false,
    "pycharm": {
     "name": "#%%\n"
    }
   }
  },
  {
   "cell_type": "markdown",
   "source": [
    "#### 获取测试结果"
   ],
   "metadata": {
    "collapsed": false,
    "pycharm": {
     "name": "#%% md\n"
    }
   }
  },
  {
   "cell_type": "code",
   "execution_count": 31,
   "outputs": [
    {
     "name": "stderr",
     "output_type": "stream",
     "text": [
      "D:\\data\\PythonProgram\\MachineStudyFinalWork\\venv\\lib\\site-packages\\tensorflow\\python\\keras\\engine\\sequential.py:455: UserWarning: `model.predict_classes()` is deprecated and will be removed after 2021-01-01. Please use instead:* `np.argmax(model.predict(x), axis=-1)`,   if your model does multi-class classification   (e.g. if it uses a `softmax` last-layer activation).* `(model.predict(x) > 0.5).astype(\"int32\")`,   if your model does binary classification   (e.g. if it uses a `sigmoid` last-layer activation).\n",
      "  warnings.warn('`model.predict_classes()` is deprecated and '\n"
     ]
    },
    {
     "data": {
      "text/plain": "array([0, 1, 2, ..., 8, 8, 1], dtype=int64)"
     },
     "execution_count": 31,
     "metadata": {},
     "output_type": "execute_result"
    }
   ],
   "source": [
    "from tensorflow.keras.models import load_model\n",
    "cnn_all = load_model('saved_model/cnn_all.h5')\n",
    "y_pred = cnn_all.predict_classes(X_test, verbose=0)\n",
    "\n",
    "y_pred"
   ],
   "metadata": {
    "collapsed": false,
    "pycharm": {
     "name": "#%%\n"
    }
   }
  },
  {
   "cell_type": "markdown",
   "source": [
    "#### 将结果作为csv保存"
   ],
   "metadata": {
    "collapsed": false,
    "pycharm": {
     "name": "#%% md\n"
    }
   }
  },
  {
   "cell_type": "code",
   "execution_count": 34,
   "outputs": [
    {
     "data": {
      "text/plain": "             0  1\n0        0.jpg  0\n1        1.jpg  1\n2        2.jpg  2\n3        3.jpg  2\n4        4.jpg  3\n...        ... ..\n9995  9995.jpg  0\n9996  9996.jpg  6\n9997  9997.jpg  8\n9998  9998.jpg  8\n9999  9999.jpg  1\n\n[10000 rows x 2 columns]",
      "text/html": "<div>\n<style scoped>\n    .dataframe tbody tr th:only-of-type {\n        vertical-align: middle;\n    }\n\n    .dataframe tbody tr th {\n        vertical-align: top;\n    }\n\n    .dataframe thead th {\n        text-align: right;\n    }\n</style>\n<table border=\"1\" class=\"dataframe\">\n  <thead>\n    <tr style=\"text-align: right;\">\n      <th></th>\n      <th>0</th>\n      <th>1</th>\n    </tr>\n  </thead>\n  <tbody>\n    <tr>\n      <th>0</th>\n      <td>0.jpg</td>\n      <td>0</td>\n    </tr>\n    <tr>\n      <th>1</th>\n      <td>1.jpg</td>\n      <td>1</td>\n    </tr>\n    <tr>\n      <th>2</th>\n      <td>2.jpg</td>\n      <td>2</td>\n    </tr>\n    <tr>\n      <th>3</th>\n      <td>3.jpg</td>\n      <td>2</td>\n    </tr>\n    <tr>\n      <th>4</th>\n      <td>4.jpg</td>\n      <td>3</td>\n    </tr>\n    <tr>\n      <th>...</th>\n      <td>...</td>\n      <td>...</td>\n    </tr>\n    <tr>\n      <th>9995</th>\n      <td>9995.jpg</td>\n      <td>0</td>\n    </tr>\n    <tr>\n      <th>9996</th>\n      <td>9996.jpg</td>\n      <td>6</td>\n    </tr>\n    <tr>\n      <th>9997</th>\n      <td>9997.jpg</td>\n      <td>8</td>\n    </tr>\n    <tr>\n      <th>9998</th>\n      <td>9998.jpg</td>\n      <td>8</td>\n    </tr>\n    <tr>\n      <th>9999</th>\n      <td>9999.jpg</td>\n      <td>1</td>\n    </tr>\n  </tbody>\n</table>\n<p>10000 rows × 2 columns</p>\n</div>"
     },
     "execution_count": 34,
     "metadata": {},
     "output_type": "execute_result"
    }
   ],
   "source": [
    "a = {}\n",
    "for i in range(10000):\n",
    "    a[i] = \"{}.jpg\".format(i)\n",
    "# print(a)\n",
    "\n",
    "data = [([0] * 2) for p in range(10000)]\n",
    "for i in range(10000):\n",
    "    for j in range(2):\n",
    "        if j == 0:\n",
    "            data[i][j] = \"{}.jpg\".format(i)\n",
    "        if j == 1:\n",
    "            data[i][j] = y_pred[i]\n",
    "\n",
    "import pandas as pd\n",
    "\n",
    "df = pd.DataFrame(data=data)\n",
    "df.to_csv('result.csv')\n",
    "df"
   ],
   "metadata": {
    "collapsed": false,
    "pycharm": {
     "name": "#%%\n"
    }
   }
  }
 ],
 "metadata": {
  "kernelspec": {
   "display_name": "Python 3",
   "language": "python",
   "name": "python3"
  },
  "language_info": {
   "codemirror_mode": {
    "name": "ipython",
    "version": 3
   },
   "file_extension": ".py",
   "mimetype": "text/x-python",
   "name": "python",
   "nbconvert_exporter": "python",
   "pygments_lexer": "ipython3",
   "version": "3.8.10"
  }
 },
 "nbformat": 4,
 "nbformat_minor": 4
}